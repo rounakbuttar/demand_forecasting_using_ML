{
  "cells": [
    {
      "cell_type": "code",
      "execution_count": null,
      "id": "87127a55",
      "metadata": {
        "id": "87127a55"
      },
      "outputs": [],
      "source": [
        "import pandas as pd\n",
        "import numpy as np\n",
        "import matplotlib.pyplot as plt\n",
        "import seaborn as sn\n",
        "from scipy import stats"
      ]
    },
    {
      "cell_type": "code",
      "execution_count": null,
      "id": "799a8ac4",
      "metadata": {
        "id": "799a8ac4"
      },
      "outputs": [],
      "source": [
        "df = pd.read_csv('/Users/rounaksinghbuttar/Desktop/Rounak/C++ Placement Course/Projects/MTech final year project/Supermart Grocery Sales - Retail Analytics Dataset.csv')\n"
      ]
    },
    {
      "cell_type": "code",
      "execution_count": null,
      "id": "873b06c0",
      "metadata": {
        "id": "873b06c0",
        "outputId": "7ec14092-cd0a-4522-9816-bba2cd2c6372"
      },
      "outputs": [
        {
          "data": {
            "text/html": [
              "<div>\n",
              "<style scoped>\n",
              "    .dataframe tbody tr th:only-of-type {\n",
              "        vertical-align: middle;\n",
              "    }\n",
              "\n",
              "    .dataframe tbody tr th {\n",
              "        vertical-align: top;\n",
              "    }\n",
              "\n",
              "    .dataframe thead th {\n",
              "        text-align: right;\n",
              "    }\n",
              "</style>\n",
              "<table border=\"1\" class=\"dataframe\">\n",
              "  <thead>\n",
              "    <tr style=\"text-align: right;\">\n",
              "      <th></th>\n",
              "      <th>Order ID</th>\n",
              "      <th>Customer Name</th>\n",
              "      <th>Category</th>\n",
              "      <th>Sub Category</th>\n",
              "      <th>City</th>\n",
              "      <th>Order Date</th>\n",
              "      <th>Region</th>\n",
              "      <th>Sales</th>\n",
              "      <th>Discount</th>\n",
              "      <th>Profit</th>\n",
              "      <th>State</th>\n",
              "    </tr>\n",
              "  </thead>\n",
              "  <tbody>\n",
              "    <tr>\n",
              "      <th>0</th>\n",
              "      <td>OD1</td>\n",
              "      <td>Harish</td>\n",
              "      <td>Oil &amp; Masala</td>\n",
              "      <td>Masalas</td>\n",
              "      <td>Vellore</td>\n",
              "      <td>11-08-2017</td>\n",
              "      <td>North</td>\n",
              "      <td>1254</td>\n",
              "      <td>0.12</td>\n",
              "      <td>401.28</td>\n",
              "      <td>Tamil Nadu</td>\n",
              "    </tr>\n",
              "    <tr>\n",
              "      <th>1</th>\n",
              "      <td>OD2</td>\n",
              "      <td>Sudha</td>\n",
              "      <td>Beverages</td>\n",
              "      <td>Health Drinks</td>\n",
              "      <td>Krishnagiri</td>\n",
              "      <td>11-08-2017</td>\n",
              "      <td>South</td>\n",
              "      <td>749</td>\n",
              "      <td>0.18</td>\n",
              "      <td>149.80</td>\n",
              "      <td>Tamil Nadu</td>\n",
              "    </tr>\n",
              "    <tr>\n",
              "      <th>2</th>\n",
              "      <td>OD3</td>\n",
              "      <td>Hussain</td>\n",
              "      <td>Food Grains</td>\n",
              "      <td>Atta &amp; Flour</td>\n",
              "      <td>Perambalur</td>\n",
              "      <td>06-12-2017</td>\n",
              "      <td>West</td>\n",
              "      <td>2360</td>\n",
              "      <td>0.21</td>\n",
              "      <td>165.20</td>\n",
              "      <td>Tamil Nadu</td>\n",
              "    </tr>\n",
              "    <tr>\n",
              "      <th>3</th>\n",
              "      <td>OD4</td>\n",
              "      <td>Jackson</td>\n",
              "      <td>Fruits &amp; Veggies</td>\n",
              "      <td>Fresh Vegetables</td>\n",
              "      <td>Dharmapuri</td>\n",
              "      <td>10-11-2016</td>\n",
              "      <td>South</td>\n",
              "      <td>896</td>\n",
              "      <td>0.25</td>\n",
              "      <td>89.60</td>\n",
              "      <td>Tamil Nadu</td>\n",
              "    </tr>\n",
              "    <tr>\n",
              "      <th>4</th>\n",
              "      <td>OD5</td>\n",
              "      <td>Ridhesh</td>\n",
              "      <td>Food Grains</td>\n",
              "      <td>Organic Staples</td>\n",
              "      <td>Ooty</td>\n",
              "      <td>10-11-2016</td>\n",
              "      <td>South</td>\n",
              "      <td>2355</td>\n",
              "      <td>0.26</td>\n",
              "      <td>918.45</td>\n",
              "      <td>Tamil Nadu</td>\n",
              "    </tr>\n",
              "  </tbody>\n",
              "</table>\n",
              "</div>"
            ],
            "text/plain": [
              "  Order ID Customer Name          Category      Sub Category         City  \\\n",
              "0      OD1        Harish      Oil & Masala           Masalas      Vellore   \n",
              "1      OD2         Sudha         Beverages     Health Drinks  Krishnagiri   \n",
              "2      OD3       Hussain       Food Grains      Atta & Flour   Perambalur   \n",
              "3      OD4       Jackson  Fruits & Veggies  Fresh Vegetables   Dharmapuri   \n",
              "4      OD5       Ridhesh       Food Grains   Organic Staples         Ooty   \n",
              "\n",
              "   Order Date Region  Sales  Discount  Profit       State  \n",
              "0  11-08-2017  North   1254      0.12  401.28  Tamil Nadu  \n",
              "1  11-08-2017  South    749      0.18  149.80  Tamil Nadu  \n",
              "2  06-12-2017   West   2360      0.21  165.20  Tamil Nadu  \n",
              "3  10-11-2016  South    896      0.25   89.60  Tamil Nadu  \n",
              "4  10-11-2016  South   2355      0.26  918.45  Tamil Nadu  "
            ]
          },
          "execution_count": 3,
          "metadata": {},
          "output_type": "execute_result"
        }
      ],
      "source": [
        "df.head()"
      ]
    },
    {
      "cell_type": "code",
      "execution_count": null,
      "id": "c6fd3bcb",
      "metadata": {
        "id": "c6fd3bcb",
        "outputId": "2b103e95-80cc-46a6-cca9-996e5a8508fc"
      },
      "outputs": [
        {
          "data": {
            "text/html": [
              "<div>\n",
              "<style scoped>\n",
              "    .dataframe tbody tr th:only-of-type {\n",
              "        vertical-align: middle;\n",
              "    }\n",
              "\n",
              "    .dataframe tbody tr th {\n",
              "        vertical-align: top;\n",
              "    }\n",
              "\n",
              "    .dataframe thead th {\n",
              "        text-align: right;\n",
              "    }\n",
              "</style>\n",
              "<table border=\"1\" class=\"dataframe\">\n",
              "  <thead>\n",
              "    <tr style=\"text-align: right;\">\n",
              "      <th></th>\n",
              "      <th>Sales</th>\n",
              "      <th>Discount</th>\n",
              "      <th>Profit</th>\n",
              "    </tr>\n",
              "  </thead>\n",
              "  <tbody>\n",
              "    <tr>\n",
              "      <th>count</th>\n",
              "      <td>9994.000000</td>\n",
              "      <td>9994.000000</td>\n",
              "      <td>9994.000000</td>\n",
              "    </tr>\n",
              "    <tr>\n",
              "      <th>mean</th>\n",
              "      <td>1496.596158</td>\n",
              "      <td>0.226817</td>\n",
              "      <td>374.937082</td>\n",
              "    </tr>\n",
              "    <tr>\n",
              "      <th>std</th>\n",
              "      <td>577.559036</td>\n",
              "      <td>0.074636</td>\n",
              "      <td>239.932881</td>\n",
              "    </tr>\n",
              "    <tr>\n",
              "      <th>min</th>\n",
              "      <td>500.000000</td>\n",
              "      <td>0.100000</td>\n",
              "      <td>25.250000</td>\n",
              "    </tr>\n",
              "    <tr>\n",
              "      <th>25%</th>\n",
              "      <td>1000.000000</td>\n",
              "      <td>0.160000</td>\n",
              "      <td>180.022500</td>\n",
              "    </tr>\n",
              "    <tr>\n",
              "      <th>50%</th>\n",
              "      <td>1498.000000</td>\n",
              "      <td>0.230000</td>\n",
              "      <td>320.780000</td>\n",
              "    </tr>\n",
              "    <tr>\n",
              "      <th>75%</th>\n",
              "      <td>1994.750000</td>\n",
              "      <td>0.290000</td>\n",
              "      <td>525.627500</td>\n",
              "    </tr>\n",
              "    <tr>\n",
              "      <th>max</th>\n",
              "      <td>2500.000000</td>\n",
              "      <td>0.350000</td>\n",
              "      <td>1120.950000</td>\n",
              "    </tr>\n",
              "  </tbody>\n",
              "</table>\n",
              "</div>"
            ],
            "text/plain": [
              "             Sales     Discount       Profit\n",
              "count  9994.000000  9994.000000  9994.000000\n",
              "mean   1496.596158     0.226817   374.937082\n",
              "std     577.559036     0.074636   239.932881\n",
              "min     500.000000     0.100000    25.250000\n",
              "25%    1000.000000     0.160000   180.022500\n",
              "50%    1498.000000     0.230000   320.780000\n",
              "75%    1994.750000     0.290000   525.627500\n",
              "max    2500.000000     0.350000  1120.950000"
            ]
          },
          "execution_count": 4,
          "metadata": {},
          "output_type": "execute_result"
        }
      ],
      "source": [
        "df.describe()"
      ]
    },
    {
      "cell_type": "code",
      "execution_count": null,
      "id": "aba7d151",
      "metadata": {
        "id": "aba7d151"
      },
      "outputs": [],
      "source": [
        "df['Order Date'] = pd.to_datetime(df['Order Date'])"
      ]
    },
    {
      "cell_type": "code",
      "execution_count": null,
      "id": "56b255f8",
      "metadata": {
        "id": "56b255f8",
        "outputId": "bef16ad8-1493-4584-f9e5-4ad3dee98bd4"
      },
      "outputs": [
        {
          "data": {
            "text/plain": [
              "array(['Oil & Masala', 'Beverages', 'Food Grains', 'Fruits & Veggies',\n",
              "       'Bakery', 'Snacks', 'Eggs, Meat & Fish'], dtype=object)"
            ]
          },
          "execution_count": 6,
          "metadata": {},
          "output_type": "execute_result"
        }
      ],
      "source": [
        "df['Category'].unique()"
      ]
    },
    {
      "cell_type": "code",
      "execution_count": null,
      "id": "9eda4650",
      "metadata": {
        "id": "9eda4650"
      },
      "outputs": [],
      "source": [
        "x = np.array(df['Category'])"
      ]
    },
    {
      "cell_type": "code",
      "execution_count": null,
      "id": "85570b9c",
      "metadata": {
        "id": "85570b9c",
        "outputId": "fa7a9f2b-3fca-47a1-d565-7f490d51b614"
      },
      "outputs": [
        {
          "data": {
            "text/plain": [
              "array(['Oil & Masala', 'Beverages', 'Food Grains', ..., 'Food Grains',\n",
              "       'Oil & Masala', 'Food Grains'], dtype=object)"
            ]
          },
          "execution_count": 8,
          "metadata": {},
          "output_type": "execute_result"
        }
      ],
      "source": [
        "x"
      ]
    },
    {
      "cell_type": "code",
      "execution_count": null,
      "id": "1eca458e",
      "metadata": {
        "id": "1eca458e",
        "outputId": "09d49b79-8bb4-433e-cdd2-e2f34ff2b5b2"
      },
      "outputs": [
        {
          "data": {
            "text/plain": [
              "(9994,)"
            ]
          },
          "execution_count": 9,
          "metadata": {},
          "output_type": "execute_result"
        }
      ],
      "source": [
        "x.shape"
      ]
    },
    {
      "cell_type": "code",
      "execution_count": null,
      "id": "b62b5f3c",
      "metadata": {
        "id": "b62b5f3c"
      },
      "outputs": [],
      "source": [
        "y = np.array(df['Sales'])"
      ]
    },
    {
      "cell_type": "code",
      "execution_count": null,
      "id": "3fafd8bf",
      "metadata": {
        "id": "3fafd8bf",
        "outputId": "38c47ff6-a1f6-4e5c-d405-9be9d2b72a57"
      },
      "outputs": [
        {
          "data": {
            "text/plain": [
              "<BarContainer object of 9994 artists>"
            ]
          },
          "execution_count": 11,
          "metadata": {},
          "output_type": "execute_result"
        },
        {
          "data": {
            "image/png": "[encoded data removed]",
            "text/plain": [
              "<Figure size 432x288 with 1 Axes>"
            ]
          },
          "metadata": {
            "needs_background": "light"
          },
          "output_type": "display_data"
        }
      ],
      "source": [
        "plt.bar(x,y)"
      ]
    },
    {
      "cell_type": "code",
      "execution_count": null,
      "id": "a0c42f00",
      "metadata": {
        "id": "a0c42f00",
        "outputId": "6127275e-569c-44f8-99b7-90e894739673"
      },
      "outputs": [
        {
          "data": {
            "text/plain": [
              "(9994,)"
            ]
          },
          "execution_count": 12,
          "metadata": {},
          "output_type": "execute_result"
        }
      ],
      "source": [
        "x.shape"
      ]
    },
    {
      "cell_type": "code",
      "execution_count": null,
      "id": "ff39ad7a",
      "metadata": {
        "id": "ff39ad7a",
        "outputId": "e5d5fd6e-dc39-420e-c960-dfd69fd1af80"
      },
      "outputs": [
        {
          "data": {
            "text/plain": [
              "(9994,)"
            ]
          },
          "execution_count": 13,
          "metadata": {},
          "output_type": "execute_result"
        }
      ],
      "source": [
        "y.shape"
      ]
    },
    {
      "cell_type": "code",
      "execution_count": null,
      "id": "1cf3360b",
      "metadata": {
        "id": "1cf3360b",
        "outputId": "cb481540-e08b-4c66-b281-d36078a7e6b0"
      },
      "outputs": [
        {
          "data": {
            "text/html": [
              "<div>\n",
              "<style scoped>\n",
              "    .dataframe tbody tr th:only-of-type {\n",
              "        vertical-align: middle;\n",
              "    }\n",
              "\n",
              "    .dataframe tbody tr th {\n",
              "        vertical-align: top;\n",
              "    }\n",
              "\n",
              "    .dataframe thead th {\n",
              "        text-align: right;\n",
              "    }\n",
              "</style>\n",
              "<table border=\"1\" class=\"dataframe\">\n",
              "  <thead>\n",
              "    <tr style=\"text-align: right;\">\n",
              "      <th></th>\n",
              "      <th>0</th>\n",
              "      <th>1</th>\n",
              "      <th>2</th>\n",
              "      <th>3</th>\n",
              "      <th>4</th>\n",
              "      <th>5</th>\n",
              "      <th>6</th>\n",
              "      <th>7</th>\n",
              "      <th>8</th>\n",
              "      <th>9</th>\n",
              "      <th>...</th>\n",
              "      <th>9984</th>\n",
              "      <th>9985</th>\n",
              "      <th>9986</th>\n",
              "      <th>9987</th>\n",
              "      <th>9988</th>\n",
              "      <th>9989</th>\n",
              "      <th>9990</th>\n",
              "      <th>9991</th>\n",
              "      <th>9992</th>\n",
              "      <th>9993</th>\n",
              "    </tr>\n",
              "  </thead>\n",
              "  <tbody>\n",
              "    <tr>\n",
              "      <th>0</th>\n",
              "      <td>Oil &amp; Masala</td>\n",
              "      <td>Beverages</td>\n",
              "      <td>Food Grains</td>\n",
              "      <td>Fruits &amp; Veggies</td>\n",
              "      <td>Food Grains</td>\n",
              "      <td>Food Grains</td>\n",
              "      <td>Fruits &amp; Veggies</td>\n",
              "      <td>Fruits &amp; Veggies</td>\n",
              "      <td>Bakery</td>\n",
              "      <td>Bakery</td>\n",
              "      <td>...</td>\n",
              "      <td>Oil &amp; Masala</td>\n",
              "      <td>Eggs, Meat &amp; Fish</td>\n",
              "      <td>Bakery</td>\n",
              "      <td>Fruits &amp; Veggies</td>\n",
              "      <td>Snacks</td>\n",
              "      <td>Eggs, Meat &amp; Fish</td>\n",
              "      <td>Bakery</td>\n",
              "      <td>Food Grains</td>\n",
              "      <td>Oil &amp; Masala</td>\n",
              "      <td>Food Grains</td>\n",
              "    </tr>\n",
              "    <tr>\n",
              "      <th>1</th>\n",
              "      <td>1254</td>\n",
              "      <td>749</td>\n",
              "      <td>2360</td>\n",
              "      <td>896</td>\n",
              "      <td>2355</td>\n",
              "      <td>2305</td>\n",
              "      <td>826</td>\n",
              "      <td>1847</td>\n",
              "      <td>791</td>\n",
              "      <td>1795</td>\n",
              "      <td>...</td>\n",
              "      <td>727</td>\n",
              "      <td>1286</td>\n",
              "      <td>2199</td>\n",
              "      <td>1350</td>\n",
              "      <td>1460</td>\n",
              "      <td>945</td>\n",
              "      <td>1195</td>\n",
              "      <td>1567</td>\n",
              "      <td>1659</td>\n",
              "      <td>1034</td>\n",
              "    </tr>\n",
              "  </tbody>\n",
              "</table>\n",
              "<p>2 rows × 9994 columns</p>\n",
              "</div>"
            ],
            "text/plain": [
              "           0          1            2                 3            4     \\\n",
              "0  Oil & Masala  Beverages  Food Grains  Fruits & Veggies  Food Grains   \n",
              "1          1254        749         2360               896         2355   \n",
              "\n",
              "          5                 6                 7       8       9     ...  \\\n",
              "0  Food Grains  Fruits & Veggies  Fruits & Veggies  Bakery  Bakery  ...   \n",
              "1         2305               826              1847     791    1795  ...   \n",
              "\n",
              "           9984               9985    9986              9987    9988  \\\n",
              "0  Oil & Masala  Eggs, Meat & Fish  Bakery  Fruits & Veggies  Snacks   \n",
              "1           727               1286    2199              1350    1460   \n",
              "\n",
              "                9989    9990         9991          9992         9993  \n",
              "0  Eggs, Meat & Fish  Bakery  Food Grains  Oil & Masala  Food Grains  \n",
              "1                945    1195         1567          1659         1034  \n",
              "\n",
              "[2 rows x 9994 columns]"
            ]
          },
          "execution_count": 14,
          "metadata": {},
          "output_type": "execute_result"
        }
      ],
      "source": [
        "pd.DataFrame([x,y])"
      ]
    },
    {
      "cell_type": "code",
      "execution_count": null,
      "id": "7772dd12",
      "metadata": {
        "id": "7772dd12"
      },
      "outputs": [],
      "source": [
        "x1 = x.reshape(9994,1)\n",
        "y1 = y.reshape(9994,1)"
      ]
    },
    {
      "cell_type": "code",
      "execution_count": null,
      "id": "e0fca519",
      "metadata": {
        "id": "e0fca519",
        "outputId": "1313e914-c0d5-426b-a285-8433284655fc"
      },
      "outputs": [
        {
          "data": {
            "text/plain": [
              "(9994, 1)"
            ]
          },
          "execution_count": 16,
          "metadata": {},
          "output_type": "execute_result"
        }
      ],
      "source": [
        "x1.shape"
      ]
    },
    {
      "cell_type": "code",
      "execution_count": null,
      "id": "eccfed01",
      "metadata": {
        "id": "eccfed01"
      },
      "outputs": [],
      "source": [
        "df1 = pd.DataFrame([x,y]).T"
      ]
    },
    {
      "cell_type": "code",
      "execution_count": null,
      "id": "6f100b1f",
      "metadata": {
        "id": "6f100b1f"
      },
      "outputs": [],
      "source": [
        "items = df['Category'].unique()"
      ]
    },
    {
      "cell_type": "code",
      "execution_count": null,
      "id": "9dda881c",
      "metadata": {
        "id": "9dda881c"
      },
      "outputs": [],
      "source": [
        "items = np.array(items)"
      ]
    },
    {
      "cell_type": "code",
      "execution_count": null,
      "id": "26712154",
      "metadata": {
        "id": "26712154",
        "outputId": "c4ba846e-c91e-4ca7-aca1-70cd4cd9fb18"
      },
      "outputs": [
        {
          "data": {
            "text/plain": [
              "numpy.ndarray"
            ]
          },
          "execution_count": 20,
          "metadata": {},
          "output_type": "execute_result"
        }
      ],
      "source": [
        "type(items)"
      ]
    },
    {
      "cell_type": "code",
      "execution_count": null,
      "id": "ff1585d1",
      "metadata": {
        "id": "ff1585d1",
        "outputId": "4751774a-765d-4eb1-fd34-a72b0ee6928f"
      },
      "outputs": [
        {
          "data": {
            "text/html": [
              "<div>\n",
              "<style scoped>\n",
              "    .dataframe tbody tr th:only-of-type {\n",
              "        vertical-align: middle;\n",
              "    }\n",
              "\n",
              "    .dataframe tbody tr th {\n",
              "        vertical-align: top;\n",
              "    }\n",
              "\n",
              "    .dataframe thead th {\n",
              "        text-align: right;\n",
              "    }\n",
              "</style>\n",
              "<table border=\"1\" class=\"dataframe\">\n",
              "  <thead>\n",
              "    <tr style=\"text-align: right;\">\n",
              "      <th></th>\n",
              "      <th>0</th>\n",
              "      <th>1</th>\n",
              "    </tr>\n",
              "  </thead>\n",
              "  <tbody>\n",
              "    <tr>\n",
              "      <th>0</th>\n",
              "      <td>Oil &amp; Masala</td>\n",
              "      <td>1254</td>\n",
              "    </tr>\n",
              "    <tr>\n",
              "      <th>1</th>\n",
              "      <td>Beverages</td>\n",
              "      <td>749</td>\n",
              "    </tr>\n",
              "    <tr>\n",
              "      <th>2</th>\n",
              "      <td>Food Grains</td>\n",
              "      <td>2360</td>\n",
              "    </tr>\n",
              "    <tr>\n",
              "      <th>3</th>\n",
              "      <td>Fruits &amp; Veggies</td>\n",
              "      <td>896</td>\n",
              "    </tr>\n",
              "    <tr>\n",
              "      <th>4</th>\n",
              "      <td>Food Grains</td>\n",
              "      <td>2355</td>\n",
              "    </tr>\n",
              "    <tr>\n",
              "      <th>...</th>\n",
              "      <td>...</td>\n",
              "      <td>...</td>\n",
              "    </tr>\n",
              "    <tr>\n",
              "      <th>9989</th>\n",
              "      <td>Eggs, Meat &amp; Fish</td>\n",
              "      <td>945</td>\n",
              "    </tr>\n",
              "    <tr>\n",
              "      <th>9990</th>\n",
              "      <td>Bakery</td>\n",
              "      <td>1195</td>\n",
              "    </tr>\n",
              "    <tr>\n",
              "      <th>9991</th>\n",
              "      <td>Food Grains</td>\n",
              "      <td>1567</td>\n",
              "    </tr>\n",
              "    <tr>\n",
              "      <th>9992</th>\n",
              "      <td>Oil &amp; Masala</td>\n",
              "      <td>1659</td>\n",
              "    </tr>\n",
              "    <tr>\n",
              "      <th>9993</th>\n",
              "      <td>Food Grains</td>\n",
              "      <td>1034</td>\n",
              "    </tr>\n",
              "  </tbody>\n",
              "</table>\n",
              "<p>9994 rows × 2 columns</p>\n",
              "</div>"
            ],
            "text/plain": [
              "                      0     1\n",
              "0          Oil & Masala  1254\n",
              "1             Beverages   749\n",
              "2           Food Grains  2360\n",
              "3      Fruits & Veggies   896\n",
              "4           Food Grains  2355\n",
              "...                 ...   ...\n",
              "9989  Eggs, Meat & Fish   945\n",
              "9990             Bakery  1195\n",
              "9991        Food Grains  1567\n",
              "9992       Oil & Masala  1659\n",
              "9993        Food Grains  1034\n",
              "\n",
              "[9994 rows x 2 columns]"
            ]
          },
          "execution_count": 21,
          "metadata": {},
          "output_type": "execute_result"
        }
      ],
      "source": [
        "df1"
      ]
    },
    {
      "cell_type": "code",
      "execution_count": null,
      "id": "c99f2c93",
      "metadata": {
        "id": "c99f2c93"
      },
      "outputs": [],
      "source": [
        "df1.columns = ['Category', 'Sales']"
      ]
    },
    {
      "cell_type": "code",
      "execution_count": null,
      "id": "df2c3af6",
      "metadata": {
        "id": "df2c3af6",
        "outputId": "48cbf476-0661-49a2-a82a-568e3b3fdc81"
      },
      "outputs": [
        {
          "data": {
            "text/html": [
              "<div>\n",
              "<style scoped>\n",
              "    .dataframe tbody tr th:only-of-type {\n",
              "        vertical-align: middle;\n",
              "    }\n",
              "\n",
              "    .dataframe tbody tr th {\n",
              "        vertical-align: top;\n",
              "    }\n",
              "\n",
              "    .dataframe thead th {\n",
              "        text-align: right;\n",
              "    }\n",
              "</style>\n",
              "<table border=\"1\" class=\"dataframe\">\n",
              "  <thead>\n",
              "    <tr style=\"text-align: right;\">\n",
              "      <th></th>\n",
              "      <th>Category</th>\n",
              "      <th>Sales</th>\n",
              "    </tr>\n",
              "  </thead>\n",
              "  <tbody>\n",
              "    <tr>\n",
              "      <th>0</th>\n",
              "      <td>Oil &amp; Masala</td>\n",
              "      <td>1254</td>\n",
              "    </tr>\n",
              "    <tr>\n",
              "      <th>1</th>\n",
              "      <td>Beverages</td>\n",
              "      <td>749</td>\n",
              "    </tr>\n",
              "    <tr>\n",
              "      <th>2</th>\n",
              "      <td>Food Grains</td>\n",
              "      <td>2360</td>\n",
              "    </tr>\n",
              "    <tr>\n",
              "      <th>3</th>\n",
              "      <td>Fruits &amp; Veggies</td>\n",
              "      <td>896</td>\n",
              "    </tr>\n",
              "    <tr>\n",
              "      <th>4</th>\n",
              "      <td>Food Grains</td>\n",
              "      <td>2355</td>\n",
              "    </tr>\n",
              "  </tbody>\n",
              "</table>\n",
              "</div>"
            ],
            "text/plain": [
              "           Category Sales\n",
              "0      Oil & Masala  1254\n",
              "1         Beverages   749\n",
              "2       Food Grains  2360\n",
              "3  Fruits & Veggies   896\n",
              "4       Food Grains  2355"
            ]
          },
          "execution_count": 23,
          "metadata": {},
          "output_type": "execute_result"
        }
      ],
      "source": [
        "df1.head()"
      ]
    },
    {
      "cell_type": "code",
      "execution_count": null,
      "id": "5e5fe64a",
      "metadata": {
        "id": "5e5fe64a",
        "outputId": "cd1884cc-02dc-4ab5-f0db-58052395f4d0"
      },
      "outputs": [
        {
          "data": {
            "text/plain": [
              "<pandas.core.groupby.generic.DataFrameGroupBy object at 0x7f84099cb550>"
            ]
          },
          "execution_count": 24,
          "metadata": {},
          "output_type": "execute_result"
        }
      ],
      "source": [
        "df1.groupby('Category')"
      ]
    },
    {
      "cell_type": "code",
      "execution_count": null,
      "id": "af16ef1a",
      "metadata": {
        "id": "af16ef1a",
        "outputId": "fe20772f-6f69-48cc-b701-73fa03a7fed9"
      },
      "outputs": [
        {
          "data": {
            "text/html": [
              "<div>\n",
              "<style scoped>\n",
              "    .dataframe tbody tr th:only-of-type {\n",
              "        vertical-align: middle;\n",
              "    }\n",
              "\n",
              "    .dataframe tbody tr th {\n",
              "        vertical-align: top;\n",
              "    }\n",
              "\n",
              "    .dataframe thead th {\n",
              "        text-align: right;\n",
              "    }\n",
              "</style>\n",
              "<table border=\"1\" class=\"dataframe\">\n",
              "  <thead>\n",
              "    <tr style=\"text-align: right;\">\n",
              "      <th></th>\n",
              "      <th>Category</th>\n",
              "      <th>Sales</th>\n",
              "    </tr>\n",
              "  </thead>\n",
              "  <tbody>\n",
              "    <tr>\n",
              "      <th>0</th>\n",
              "      <td>Oil &amp; Masala</td>\n",
              "      <td>1254</td>\n",
              "    </tr>\n",
              "    <tr>\n",
              "      <th>1</th>\n",
              "      <td>Beverages</td>\n",
              "      <td>749</td>\n",
              "    </tr>\n",
              "    <tr>\n",
              "      <th>2</th>\n",
              "      <td>Food Grains</td>\n",
              "      <td>2360</td>\n",
              "    </tr>\n",
              "    <tr>\n",
              "      <th>3</th>\n",
              "      <td>Fruits &amp; Veggies</td>\n",
              "      <td>896</td>\n",
              "    </tr>\n",
              "    <tr>\n",
              "      <th>4</th>\n",
              "      <td>Food Grains</td>\n",
              "      <td>2355</td>\n",
              "    </tr>\n",
              "    <tr>\n",
              "      <th>...</th>\n",
              "      <td>...</td>\n",
              "      <td>...</td>\n",
              "    </tr>\n",
              "    <tr>\n",
              "      <th>9989</th>\n",
              "      <td>Eggs, Meat &amp; Fish</td>\n",
              "      <td>945</td>\n",
              "    </tr>\n",
              "    <tr>\n",
              "      <th>9990</th>\n",
              "      <td>Bakery</td>\n",
              "      <td>1195</td>\n",
              "    </tr>\n",
              "    <tr>\n",
              "      <th>9991</th>\n",
              "      <td>Food Grains</td>\n",
              "      <td>1567</td>\n",
              "    </tr>\n",
              "    <tr>\n",
              "      <th>9992</th>\n",
              "      <td>Oil &amp; Masala</td>\n",
              "      <td>1659</td>\n",
              "    </tr>\n",
              "    <tr>\n",
              "      <th>9993</th>\n",
              "      <td>Food Grains</td>\n",
              "      <td>1034</td>\n",
              "    </tr>\n",
              "  </tbody>\n",
              "</table>\n",
              "<p>9994 rows × 2 columns</p>\n",
              "</div>"
            ],
            "text/plain": [
              "               Category Sales\n",
              "0          Oil & Masala  1254\n",
              "1             Beverages   749\n",
              "2           Food Grains  2360\n",
              "3      Fruits & Veggies   896\n",
              "4           Food Grains  2355\n",
              "...                 ...   ...\n",
              "9989  Eggs, Meat & Fish   945\n",
              "9990             Bakery  1195\n",
              "9991        Food Grains  1567\n",
              "9992       Oil & Masala  1659\n",
              "9993        Food Grains  1034\n",
              "\n",
              "[9994 rows x 2 columns]"
            ]
          },
          "execution_count": 25,
          "metadata": {},
          "output_type": "execute_result"
        }
      ],
      "source": [
        "df1"
      ]
    },
    {
      "cell_type": "code",
      "execution_count": null,
      "id": "f1c51bf8",
      "metadata": {
        "id": "f1c51bf8",
        "outputId": "49659eee-7c35-4597-eb09-f553270a0148"
      },
      "outputs": [
        {
          "data": {
            "text/plain": [
              "[<matplotlib.lines.Line2D at 0x7f842eeaf0a0>]"
            ]
          },
          "execution_count": 26,
          "metadata": {},
          "output_type": "execute_result"
        },
        {
          "data": {
            "image/png": "[encoded data removed]",
            "text/plain": [
              "<Figure size 432x288 with 1 Axes>"
            ]
          },
          "metadata": {
            "needs_background": "light"
          },
          "output_type": "display_data"
        }
      ],
      "source": [
        "plt.plot(x,y)"
      ]
    },
    {
      "cell_type": "markdown",
      "id": "ef4a09b8",
      "metadata": {
        "id": "ef4a09b8"
      },
      "source": [
        "# check this out"
      ]
    },
    {
      "cell_type": "code",
      "execution_count": null,
      "id": "b82a6327",
      "metadata": {
        "id": "b82a6327"
      },
      "outputs": [],
      "source": [
        "df1_plot = df1.groupby(['Category']).sum()"
      ]
    },
    {
      "cell_type": "code",
      "execution_count": null,
      "id": "3f71855f",
      "metadata": {
        "id": "3f71855f"
      },
      "outputs": [],
      "source": [
        "df1_plot.reset_index(inplace = True)"
      ]
    },
    {
      "cell_type": "code",
      "execution_count": null,
      "id": "41f3bd64",
      "metadata": {
        "id": "41f3bd64",
        "outputId": "e8544359-7833-4586-84ea-92e40809d8c0"
      },
      "outputs": [
        {
          "data": {
            "text/plain": [
              "<BarContainer object of 7 artists>"
            ]
          },
          "execution_count": 29,
          "metadata": {},
          "output_type": "execute_result"
        },
        {
          "data": {
            "image/png": "[encoded data removed]",
            "text/plain": [
              "<Figure size 432x288 with 1 Axes>"
            ]
          },
          "metadata": {
            "needs_background": "light"
          },
          "output_type": "display_data"
        }
      ],
      "source": [
        "plt.bar(df1_plot['Category'], df1_plot['Sales'])"
      ]
    },
    {
      "cell_type": "code",
      "execution_count": null,
      "id": "c4601874",
      "metadata": {
        "id": "c4601874",
        "outputId": "68f35184-5335-49e1-dd2e-3632fa5719d3"
      },
      "outputs": [
        {
          "data": {
            "text/plain": [
              "<BarContainer object of 7 artists>"
            ]
          },
          "metadata": {},
          "output_type": "display_data"
        },
        {
          "data": {
            "image/png": "[encoded data removed]",
            "text/plain": [
              "<Figure size 720x720 with 1 Axes>"
            ]
          },
          "metadata": {
            "needs_background": "light"
          },
          "output_type": "display_data"
        }
      ],
      "source": [
        "plt.figure(figsize=(10, 10))\n",
        "display(plt.bar(df1_plot['Category'], df1_plot['Sales']))"
      ]
    },
    {
      "cell_type": "code",
      "execution_count": null,
      "id": "8440dec9",
      "metadata": {
        "id": "8440dec9",
        "outputId": "ce14ddd3-d638-4e3c-d52c-78a988672f55"
      },
      "outputs": [
        {
          "data": {
            "text/plain": [
              "<AxesSubplot:xlabel='Category', ylabel='Sales'>"
            ]
          },
          "execution_count": 31,
          "metadata": {},
          "output_type": "execute_result"
        },
        {
          "data": {
            "image/png": "[encoded data removed]",
            "text/plain": [
              "<Figure size 432x288 with 1 Axes>"
            ]
          },
          "metadata": {
            "needs_background": "light"
          },
          "output_type": "display_data"
        }
      ],
      "source": [
        "sn.barplot(x = 'Category', y = 'Sales', data = df1_plot)"
      ]
    },
    {
      "cell_type": "code",
      "execution_count": null,
      "id": "cbaa8ffc",
      "metadata": {
        "id": "cbaa8ffc",
        "outputId": "6b63cff8-6fb0-42b8-e590-08a1afa92d8a"
      },
      "outputs": [
        {
          "data": {
            "text/plain": [
              "(array([1027.,  997.,  975.,  985., 1018., 1042.,  985.,  984.,  968.,\n",
              "        1013.]),\n",
              " array([500.0, 700.0, 900.0, 1100.0, 1300.0, 1500.0, 1700.0, 1900.0,\n",
              "        2100.0, 2300.0, 2500.0], dtype=object),\n",
              " <BarContainer object of 10 artists>)"
            ]
          },
          "execution_count": 32,
          "metadata": {},
          "output_type": "execute_result"
        },
        {
          "data": {
            "image/png": "[encoded data removed]",
            "text/plain": [
              "<Figure size 432x288 with 1 Axes>"
            ]
          },
          "metadata": {
            "needs_background": "light"
          },
          "output_type": "display_data"
        }
      ],
      "source": [
        "plt.hist(df1['Sales'])"
      ]
    },
    {
      "cell_type": "code",
      "execution_count": null,
      "id": "1256f166",
      "metadata": {
        "id": "1256f166",
        "outputId": "bc7f64fc-ebaf-4736-981a-df97c37246d5"
      },
      "outputs": [
        {
          "data": {
            "text/plain": [
              "<seaborn.axisgrid.FacetGrid at 0x7f84195af790>"
            ]
          },
          "execution_count": 33,
          "metadata": {},
          "output_type": "execute_result"
        },
        {
          "data": {
            "image/png": "[encoded data removed]",
            "text/plain": [
              "<Figure size 360x360 with 1 Axes>"
            ]
          },
          "metadata": {
            "needs_background": "light"
          },
          "output_type": "display_data"
        }
      ],
      "source": [
        "sn.displot(df1['Sales'])"
      ]
    },
    {
      "cell_type": "markdown",
      "id": "316f67dd",
      "metadata": {
        "id": "316f67dd"
      },
      "source": [
        "# A box plot is used to find out outliers and variability of data"
      ]
    },
    {
      "cell_type": "code",
      "execution_count": null,
      "id": "175c9b93",
      "metadata": {
        "id": "175c9b93",
        "outputId": "fe2c6417-41d5-45a8-b2c1-a1406dd04a58"
      },
      "outputs": [
        {
          "data": {
            "image/png": "[encoded data removed]",
            "text/plain": [
              "<Figure size 432x288 with 1 Axes>"
            ]
          },
          "metadata": {
            "needs_background": "light"
          },
          "output_type": "display_data"
        }
      ],
      "source": [
        "box = sn.boxplot(x = df1['Sales'])"
      ]
    },
    {
      "cell_type": "code",
      "execution_count": null,
      "id": "e6ad6839",
      "metadata": {
        "id": "e6ad6839",
        "outputId": "c0cdb33a-7aeb-456d-85ad-40ad3ebeb901"
      },
      "outputs": [
        {
          "data": {
            "image/png": "[encoded data removed]",
            "text/plain": [
              "<Figure size 432x288 with 1 Axes>"
            ]
          },
          "metadata": {
            "needs_background": "light"
          },
          "output_type": "display_data"
        }
      ],
      "source": [
        "box = plt.boxplot(df1['Sales'])"
      ]
    },
    {
      "cell_type": "code",
      "execution_count": null,
      "id": "b8b37731",
      "metadata": {
        "id": "b8b37731",
        "outputId": "f277cae5-4203-4dba-bca9-09e5581ac56d"
      },
      "outputs": [
        {
          "data": {
            "text/plain": [
              "[500, 2500]"
            ]
          },
          "execution_count": 36,
          "metadata": {},
          "output_type": "execute_result"
        }
      ],
      "source": [
        "[item.get_ydata()[0] for item in box['caps']]"
      ]
    },
    {
      "cell_type": "code",
      "execution_count": null,
      "id": "81b2b614",
      "metadata": {
        "id": "81b2b614",
        "outputId": "64b6fc69-e80b-4e82-f25a-b5a0c5aabe71"
      },
      "outputs": [
        {
          "data": {
            "text/plain": [
              "[1000.0, 1994.75]"
            ]
          },
          "execution_count": 37,
          "metadata": {},
          "output_type": "execute_result"
        }
      ],
      "source": [
        "[item.get_ydata()[0] for item in box['whiskers']] # 25 and 75 quartiles so IQR is 994.75"
      ]
    },
    {
      "cell_type": "code",
      "execution_count": null,
      "id": "c4fb2bf3",
      "metadata": {
        "id": "c4fb2bf3",
        "outputId": "f74c7797-6b5e-4f63-fb2c-aec98371a448"
      },
      "outputs": [
        {
          "data": {
            "text/plain": [
              "[1498.0]"
            ]
          },
          "execution_count": 38,
          "metadata": {},
          "output_type": "execute_result"
        }
      ],
      "source": [
        "[item.get_ydata()[0] for item in box['medians']]"
      ]
    },
    {
      "cell_type": "code",
      "execution_count": null,
      "id": "be1a665d",
      "metadata": {
        "id": "be1a665d",
        "outputId": "e1e9f49d-1dca-4389-bede-09edcbb8d6b6"
      },
      "outputs": [
        {
          "data": {
            "text/plain": [
              "<AxesSubplot:xlabel='Category', ylabel='Sales'>"
            ]
          },
          "execution_count": 39,
          "metadata": {},
          "output_type": "execute_result"
        },
        {
          "data": {
            "image/png": "[encoded data removed]",
            "text/plain": [
              "<Figure size 432x288 with 1 Axes>"
            ]
          },
          "metadata": {
            "needs_background": "light"
          },
          "output_type": "display_data"
        }
      ],
      "source": [
        "sn.boxplot(x = 'Category', y = 'Sales', data = df1)"
      ]
    },
    {
      "cell_type": "code",
      "execution_count": null,
      "id": "ad1ca6be",
      "metadata": {
        "id": "ad1ca6be",
        "outputId": "ecd96786-84a2-4b18-9c3f-af1a30bebb97"
      },
      "outputs": [
        {
          "name": "stdout",
          "output_type": "stream",
          "text": [
            "<class 'pandas.core.frame.DataFrame'>\n",
            "RangeIndex: 9994 entries, 0 to 9993\n",
            "Data columns (total 11 columns):\n",
            " #   Column         Non-Null Count  Dtype         \n",
            "---  ------         --------------  -----         \n",
            " 0   Order ID       9994 non-null   object        \n",
            " 1   Customer Name  9994 non-null   object        \n",
            " 2   Category       9994 non-null   object        \n",
            " 3   Sub Category   9994 non-null   object        \n",
            " 4   City           9994 non-null   object        \n",
            " 5   Order Date     9994 non-null   datetime64[ns]\n",
            " 6   Region         9994 non-null   object        \n",
            " 7   Sales          9994 non-null   int64         \n",
            " 8   Discount       9994 non-null   float64       \n",
            " 9   Profit         9994 non-null   float64       \n",
            " 10  State          9994 non-null   object        \n",
            "dtypes: datetime64[ns](1), float64(2), int64(1), object(7)\n",
            "memory usage: 859.0+ KB\n"
          ]
        }
      ],
      "source": [
        "df.info()"
      ]
    },
    {
      "cell_type": "code",
      "execution_count": null,
      "id": "8ba48b8f",
      "metadata": {
        "id": "8ba48b8f"
      },
      "outputs": [],
      "source": [
        "df2 = df[['Category', 'Sub Category', 'City', 'Discount', 'Profit', 'Sales']].groupby('Sub Category').sum()"
      ]
    },
    {
      "cell_type": "code",
      "execution_count": null,
      "id": "49a70d53",
      "metadata": {
        "id": "49a70d53"
      },
      "outputs": [],
      "source": [
        "df2.reset_index(inplace = True)"
      ]
    },
    {
      "cell_type": "code",
      "execution_count": null,
      "id": "ae9bbdd7",
      "metadata": {
        "id": "ae9bbdd7",
        "outputId": "5a33edd6-1e75-4672-f147-2c1785b8a47c"
      },
      "outputs": [
        {
          "data": {
            "text/html": [
              "<div>\n",
              "<style scoped>\n",
              "    .dataframe tbody tr th:only-of-type {\n",
              "        vertical-align: middle;\n",
              "    }\n",
              "\n",
              "    .dataframe tbody tr th {\n",
              "        vertical-align: top;\n",
              "    }\n",
              "\n",
              "    .dataframe thead th {\n",
              "        text-align: right;\n",
              "    }\n",
              "</style>\n",
              "<table border=\"1\" class=\"dataframe\">\n",
              "  <thead>\n",
              "    <tr style=\"text-align: right;\">\n",
              "      <th></th>\n",
              "      <th>Sub Category</th>\n",
              "      <th>Discount</th>\n",
              "      <th>Profit</th>\n",
              "      <th>Sales</th>\n",
              "    </tr>\n",
              "  </thead>\n",
              "  <tbody>\n",
              "    <tr>\n",
              "      <th>0</th>\n",
              "      <td>Atta &amp; Flour</td>\n",
              "      <td>80.44</td>\n",
              "      <td>127861.10</td>\n",
              "      <td>534649</td>\n",
              "    </tr>\n",
              "    <tr>\n",
              "      <th>1</th>\n",
              "      <td>Biscuits</td>\n",
              "      <td>103.29</td>\n",
              "      <td>169357.62</td>\n",
              "      <td>684083</td>\n",
              "    </tr>\n",
              "    <tr>\n",
              "      <th>2</th>\n",
              "      <td>Breads &amp; Buns</td>\n",
              "      <td>113.70</td>\n",
              "      <td>190764.98</td>\n",
              "      <td>742586</td>\n",
              "    </tr>\n",
              "    <tr>\n",
              "      <th>3</th>\n",
              "      <td>Cakes</td>\n",
              "      <td>101.54</td>\n",
              "      <td>168398.46</td>\n",
              "      <td>685612</td>\n",
              "    </tr>\n",
              "    <tr>\n",
              "      <th>4</th>\n",
              "      <td>Chicken</td>\n",
              "      <td>79.66</td>\n",
              "      <td>124049.89</td>\n",
              "      <td>520497</td>\n",
              "    </tr>\n",
              "  </tbody>\n",
              "</table>\n",
              "</div>"
            ],
            "text/plain": [
              "    Sub Category  Discount     Profit   Sales\n",
              "0   Atta & Flour     80.44  127861.10  534649\n",
              "1       Biscuits    103.29  169357.62  684083\n",
              "2  Breads & Buns    113.70  190764.98  742586\n",
              "3          Cakes    101.54  168398.46  685612\n",
              "4        Chicken     79.66  124049.89  520497"
            ]
          },
          "execution_count": 43,
          "metadata": {},
          "output_type": "execute_result"
        }
      ],
      "source": [
        "df2.head()"
      ]
    },
    {
      "cell_type": "code",
      "execution_count": null,
      "id": "8e8f79a4",
      "metadata": {
        "id": "8e8f79a4",
        "outputId": "b6fc76f7-fa8d-49c8-e8f6-4ec1dabfcd96"
      },
      "outputs": [
        {
          "data": {
            "text/plain": [
              "<AxesSubplot:xlabel='Sub Category', ylabel='Sales'>"
            ]
          },
          "execution_count": 44,
          "metadata": {},
          "output_type": "execute_result"
        },
        {
          "data": {
            "image/png": "[encoded data removed]",
            "text/plain": [
              "<Figure size 432x288 with 1 Axes>"
            ]
          },
          "metadata": {
            "needs_background": "light"
          },
          "output_type": "display_data"
        }
      ],
      "source": [
        "sn.barplot(x = 'Sub Category', y = 'Sales', data = df2)"
      ]
    },
    {
      "cell_type": "code",
      "execution_count": null,
      "id": "1dbdda79",
      "metadata": {
        "id": "1dbdda79",
        "outputId": "c97ae307-754e-4157-f3ff-392f9d9901ef"
      },
      "outputs": [
        {
          "data": {
            "text/plain": [
              "(array([8., 3., 1., 5., 4., 0., 0., 0., 0., 2.]),\n",
              " array([ 498323. ,  553634.6,  608946.2,  664257.8,  719569.4,  774881. ,\n",
              "         830192.6,  885504.2,  940815.8,  996127.4, 1051439. ]),\n",
              " <BarContainer object of 10 artists>)"
            ]
          },
          "execution_count": 45,
          "metadata": {},
          "output_type": "execute_result"
        },
        {
          "data": {
            "image/png": "[encoded data removed]",
            "text/plain": [
              "<Figure size 432x288 with 1 Axes>"
            ]
          },
          "metadata": {
            "needs_background": "light"
          },
          "output_type": "display_data"
        }
      ],
      "source": [
        "plt.hist(df2['Sales'])"
      ]
    },
    {
      "cell_type": "code",
      "execution_count": null,
      "id": "4ebd1f19",
      "metadata": {
        "id": "4ebd1f19",
        "outputId": "7e5b506e-768a-473a-8c31-a401703835fb"
      },
      "outputs": [
        {
          "data": {
            "image/png": "[encoded data removed]",
            "text/plain": [
              "<Figure size 432x288 with 1 Axes>"
            ]
          },
          "metadata": {
            "needs_background": "light"
          },
          "output_type": "display_data"
        }
      ],
      "source": [
        "box = sn.boxplot(x = df2['Sales'])"
      ]
    },
    {
      "cell_type": "code",
      "execution_count": null,
      "id": "539c329c",
      "metadata": {
        "id": "539c329c",
        "outputId": "58c72e54-984a-4926-b77a-1500a2d10d88"
      },
      "outputs": [
        {
          "data": {
            "image/png": "[encoded data removed]",
            "text/plain": [
              "<Figure size 432x288 with 1 Axes>"
            ]
          },
          "metadata": {
            "needs_background": "light"
          },
          "output_type": "display_data"
        }
      ],
      "source": [
        "box = plt.boxplot(df2['Sales'])"
      ]
    },
    {
      "cell_type": "markdown",
      "id": "474d295d",
      "metadata": {
        "id": "474d295d"
      },
      "source": [
        "# we can see that there are outliers"
      ]
    },
    {
      "cell_type": "code",
      "execution_count": null,
      "id": "aafaa86a",
      "metadata": {
        "id": "aafaa86a",
        "outputId": "9a48e4f9-2791-4ab8-be6b-d04d83b9de85"
      },
      "outputs": [
        {
          "data": {
            "text/plain": [
              "[498323, 768213]"
            ]
          },
          "execution_count": 48,
          "metadata": {},
          "output_type": "execute_result"
        }
      ],
      "source": [
        "[item.get_ydata()[0] for item in box['caps']] # lowest and highest"
      ]
    },
    {
      "cell_type": "code",
      "execution_count": null,
      "id": "eb430bdd",
      "metadata": {
        "id": "eb430bdd",
        "outputId": "623a5b08-c1f9-4d16-d009-9ffc17fc95c1"
      },
      "outputs": [
        {
          "data": {
            "text/plain": [
              "[530245.5, 715689.0]"
            ]
          },
          "execution_count": 49,
          "metadata": {},
          "output_type": "execute_result"
        }
      ],
      "source": [
        "[item.get_ydata()[0] for item in box['whiskers']] # 25 and 75 quartile"
      ]
    },
    {
      "cell_type": "code",
      "execution_count": null,
      "id": "12ce71a0",
      "metadata": {
        "id": "12ce71a0",
        "outputId": "4ff13b93-ace2-4c63-c4ae-4851337bd9df"
      },
      "outputs": [
        {
          "data": {
            "text/plain": [
              "[611200.0]"
            ]
          },
          "execution_count": 50,
          "metadata": {},
          "output_type": "execute_result"
        }
      ],
      "source": [
        "[item.get_ydata()[0] for item in box['medians']] # median"
      ]
    },
    {
      "cell_type": "code",
      "execution_count": null,
      "id": "399b82cd",
      "metadata": {
        "id": "399b82cd",
        "outputId": "701a6bed-7720-4198-adaf-59b679f684e6"
      },
      "outputs": [
        {
          "data": {
            "text/html": [
              "<div>\n",
              "<style scoped>\n",
              "    .dataframe tbody tr th:only-of-type {\n",
              "        vertical-align: middle;\n",
              "    }\n",
              "\n",
              "    .dataframe tbody tr th {\n",
              "        vertical-align: top;\n",
              "    }\n",
              "\n",
              "    .dataframe thead th {\n",
              "        text-align: right;\n",
              "    }\n",
              "</style>\n",
              "<table border=\"1\" class=\"dataframe\">\n",
              "  <thead>\n",
              "    <tr style=\"text-align: right;\">\n",
              "      <th></th>\n",
              "      <th>Sub Category</th>\n",
              "      <th>Sales</th>\n",
              "    </tr>\n",
              "  </thead>\n",
              "  <tbody>\n",
              "    <tr>\n",
              "      <th>13</th>\n",
              "      <td>Health Drinks</td>\n",
              "      <td>1051439</td>\n",
              "    </tr>\n",
              "    <tr>\n",
              "      <th>21</th>\n",
              "      <td>Soft Drinks</td>\n",
              "      <td>1033874</td>\n",
              "    </tr>\n",
              "  </tbody>\n",
              "</table>\n",
              "</div>"
            ],
            "text/plain": [
              "     Sub Category    Sales\n",
              "13  Health Drinks  1051439\n",
              "21    Soft Drinks  1033874"
            ]
          },
          "execution_count": 51,
          "metadata": {},
          "output_type": "execute_result"
        }
      ],
      "source": [
        "df2[df2['Sales'] > 768213][['Sub Category', 'Sales']]"
      ]
    },
    {
      "cell_type": "markdown",
      "id": "66da3d0a",
      "metadata": {
        "id": "66da3d0a"
      },
      "source": [
        "# we have found out what are those outliers"
      ]
    },
    {
      "cell_type": "code",
      "execution_count": null,
      "id": "35418d11",
      "metadata": {
        "id": "35418d11",
        "outputId": "06c91107-def9-425c-a1bf-f180ac19274f"
      },
      "outputs": [
        {
          "data": {
            "text/html": [
              "<div>\n",
              "<style scoped>\n",
              "    .dataframe tbody tr th:only-of-type {\n",
              "        vertical-align: middle;\n",
              "    }\n",
              "\n",
              "    .dataframe tbody tr th {\n",
              "        vertical-align: top;\n",
              "    }\n",
              "\n",
              "    .dataframe thead th {\n",
              "        text-align: right;\n",
              "    }\n",
              "</style>\n",
              "<table border=\"1\" class=\"dataframe\">\n",
              "  <thead>\n",
              "    <tr style=\"text-align: right;\">\n",
              "      <th></th>\n",
              "      <th>Sub Category</th>\n",
              "      <th>Discount</th>\n",
              "      <th>Profit</th>\n",
              "      <th>Sales</th>\n",
              "    </tr>\n",
              "  </thead>\n",
              "  <tbody>\n",
              "    <tr>\n",
              "      <th>0</th>\n",
              "      <td>Atta &amp; Flour</td>\n",
              "      <td>80.44</td>\n",
              "      <td>127861.10</td>\n",
              "      <td>534649</td>\n",
              "    </tr>\n",
              "    <tr>\n",
              "      <th>1</th>\n",
              "      <td>Biscuits</td>\n",
              "      <td>103.29</td>\n",
              "      <td>169357.62</td>\n",
              "      <td>684083</td>\n",
              "    </tr>\n",
              "    <tr>\n",
              "      <th>2</th>\n",
              "      <td>Breads &amp; Buns</td>\n",
              "      <td>113.70</td>\n",
              "      <td>190764.98</td>\n",
              "      <td>742586</td>\n",
              "    </tr>\n",
              "    <tr>\n",
              "      <th>3</th>\n",
              "      <td>Cakes</td>\n",
              "      <td>101.54</td>\n",
              "      <td>168398.46</td>\n",
              "      <td>685612</td>\n",
              "    </tr>\n",
              "    <tr>\n",
              "      <th>4</th>\n",
              "      <td>Chicken</td>\n",
              "      <td>79.66</td>\n",
              "      <td>124049.89</td>\n",
              "      <td>520497</td>\n",
              "    </tr>\n",
              "  </tbody>\n",
              "</table>\n",
              "</div>"
            ],
            "text/plain": [
              "    Sub Category  Discount     Profit   Sales\n",
              "0   Atta & Flour     80.44  127861.10  534649\n",
              "1       Biscuits    103.29  169357.62  684083\n",
              "2  Breads & Buns    113.70  190764.98  742586\n",
              "3          Cakes    101.54  168398.46  685612\n",
              "4        Chicken     79.66  124049.89  520497"
            ]
          },
          "execution_count": 52,
          "metadata": {},
          "output_type": "execute_result"
        }
      ],
      "source": [
        "df2.head()"
      ]
    },
    {
      "cell_type": "code",
      "execution_count": null,
      "id": "ee010a62",
      "metadata": {
        "id": "ee010a62"
      },
      "outputs": [],
      "source": [
        "df2['P/S'] = round(df2['Profit']/df2['Sales'] * 100,2)"
      ]
    },
    {
      "cell_type": "code",
      "execution_count": null,
      "id": "e054381a",
      "metadata": {
        "id": "e054381a",
        "outputId": "f319a488-e42c-44eb-9c7f-feccc18d6dc4"
      },
      "outputs": [
        {
          "data": {
            "text/html": [
              "<div>\n",
              "<style scoped>\n",
              "    .dataframe tbody tr th:only-of-type {\n",
              "        vertical-align: middle;\n",
              "    }\n",
              "\n",
              "    .dataframe tbody tr th {\n",
              "        vertical-align: top;\n",
              "    }\n",
              "\n",
              "    .dataframe thead th {\n",
              "        text-align: right;\n",
              "    }\n",
              "</style>\n",
              "<table border=\"1\" class=\"dataframe\">\n",
              "  <thead>\n",
              "    <tr style=\"text-align: right;\">\n",
              "      <th></th>\n",
              "      <th>Sub Category</th>\n",
              "      <th>Discount</th>\n",
              "      <th>Profit</th>\n",
              "      <th>Sales</th>\n",
              "      <th>P/S</th>\n",
              "    </tr>\n",
              "  </thead>\n",
              "  <tbody>\n",
              "    <tr>\n",
              "      <th>0</th>\n",
              "      <td>Atta &amp; Flour</td>\n",
              "      <td>80.44</td>\n",
              "      <td>127861.10</td>\n",
              "      <td>534649</td>\n",
              "      <td>23.91</td>\n",
              "    </tr>\n",
              "    <tr>\n",
              "      <th>1</th>\n",
              "      <td>Biscuits</td>\n",
              "      <td>103.29</td>\n",
              "      <td>169357.62</td>\n",
              "      <td>684083</td>\n",
              "      <td>24.76</td>\n",
              "    </tr>\n",
              "    <tr>\n",
              "      <th>2</th>\n",
              "      <td>Breads &amp; Buns</td>\n",
              "      <td>113.70</td>\n",
              "      <td>190764.98</td>\n",
              "      <td>742586</td>\n",
              "      <td>25.69</td>\n",
              "    </tr>\n",
              "    <tr>\n",
              "      <th>3</th>\n",
              "      <td>Cakes</td>\n",
              "      <td>101.54</td>\n",
              "      <td>168398.46</td>\n",
              "      <td>685612</td>\n",
              "      <td>24.56</td>\n",
              "    </tr>\n",
              "    <tr>\n",
              "      <th>4</th>\n",
              "      <td>Chicken</td>\n",
              "      <td>79.66</td>\n",
              "      <td>124049.89</td>\n",
              "      <td>520497</td>\n",
              "      <td>23.83</td>\n",
              "    </tr>\n",
              "  </tbody>\n",
              "</table>\n",
              "</div>"
            ],
            "text/plain": [
              "    Sub Category  Discount     Profit   Sales    P/S\n",
              "0   Atta & Flour     80.44  127861.10  534649  23.91\n",
              "1       Biscuits    103.29  169357.62  684083  24.76\n",
              "2  Breads & Buns    113.70  190764.98  742586  25.69\n",
              "3          Cakes    101.54  168398.46  685612  24.56\n",
              "4        Chicken     79.66  124049.89  520497  23.83"
            ]
          },
          "execution_count": 54,
          "metadata": {},
          "output_type": "execute_result"
        }
      ],
      "source": [
        "df2.head()"
      ]
    },
    {
      "cell_type": "code",
      "execution_count": null,
      "id": "bfffb9ff",
      "metadata": {
        "id": "bfffb9ff",
        "outputId": "cccef9d1-04e2-4973-a7ee-c50c32a5170f"
      },
      "outputs": [
        {
          "data": {
            "text/plain": [
              "<AxesSubplot:xlabel='Sub Category', ylabel='P/S'>"
            ]
          },
          "execution_count": 55,
          "metadata": {},
          "output_type": "execute_result"
        },
        {
          "data": {
            "image/png": "[encoded data removed]",
            "text/plain": [
              "<Figure size 432x288 with 1 Axes>"
            ]
          },
          "metadata": {
            "needs_background": "light"
          },
          "output_type": "display_data"
        }
      ],
      "source": [
        "sn.barplot(x = 'Sub Category', y = 'P/S', data = df2)"
      ]
    },
    {
      "cell_type": "markdown",
      "id": "47158fcc",
      "metadata": {
        "id": "47158fcc"
      },
      "source": [
        "# we see that profit margin is similar for all products"
      ]
    },
    {
      "cell_type": "code",
      "execution_count": null,
      "id": "c3c2b0ad",
      "metadata": {
        "id": "c3c2b0ad",
        "outputId": "aa11057e-ce33-4a8d-8b4e-c5d1c8b76c4c"
      },
      "outputs": [
        {
          "data": {
            "text/plain": [
              "<AxesSubplot:xlabel='Sub Category', ylabel='Profit'>"
            ]
          },
          "execution_count": 56,
          "metadata": {},
          "output_type": "execute_result"
        },
        {
          "data": {
            "image/png": "[encoded data removed]",
            "text/plain": [
              "<Figure size 432x288 with 1 Axes>"
            ]
          },
          "metadata": {
            "needs_background": "light"
          },
          "output_type": "display_data"
        }
      ],
      "source": [
        "sn.barplot(x = 'Sub Category', y = 'Profit', data = df2)"
      ]
    },
    {
      "cell_type": "code",
      "execution_count": null,
      "id": "041a2187",
      "metadata": {
        "id": "041a2187",
        "outputId": "326592b1-308d-4ba2-f7d4-454322114f8f"
      },
      "outputs": [
        {
          "data": {
            "image/png": "[encoded data removed]",
            "text/plain": [
              "<Figure size 432x288 with 1 Axes>"
            ]
          },
          "metadata": {
            "needs_background": "light"
          },
          "output_type": "display_data"
        }
      ],
      "source": [
        "box = sn.boxplot(x = df2['Profit'])"
      ]
    },
    {
      "cell_type": "code",
      "execution_count": null,
      "id": "4c86e1f8",
      "metadata": {
        "id": "4c86e1f8",
        "outputId": "fd930f41-ddd0-463d-e0e9-9113cabfbdde"
      },
      "outputs": [
        {
          "data": {
            "image/png": "[encoded data removed]",
            "text/plain": [
              "<Figure size 432x288 with 1 Axes>"
            ]
          },
          "metadata": {
            "needs_background": "light"
          },
          "output_type": "display_data"
        }
      ],
      "source": [
        "box = plt.boxplot(df2['Profit'])"
      ]
    },
    {
      "cell_type": "code",
      "execution_count": null,
      "id": "2b5dbbfe",
      "metadata": {
        "id": "2b5dbbfe",
        "outputId": "235727ea-6ad6-413d-e313-fccc706d6981"
      },
      "outputs": [
        {
          "data": {
            "text/plain": [
              "[124049.89, 193685.81]"
            ]
          },
          "execution_count": 59,
          "metadata": {},
          "output_type": "execute_result"
        }
      ],
      "source": [
        "[item.get_ydata()[0] for item in box['caps']] # lowest and highest"
      ]
    },
    {
      "cell_type": "code",
      "execution_count": null,
      "id": "f558d459",
      "metadata": {
        "id": "f558d459",
        "outputId": "86d41f29-eaba-4258-8e17-ced4de3d0d7f"
      },
      "outputs": [
        {
          "data": {
            "text/html": [
              "<div>\n",
              "<style scoped>\n",
              "    .dataframe tbody tr th:only-of-type {\n",
              "        vertical-align: middle;\n",
              "    }\n",
              "\n",
              "    .dataframe tbody tr th {\n",
              "        vertical-align: top;\n",
              "    }\n",
              "\n",
              "    .dataframe thead th {\n",
              "        text-align: right;\n",
              "    }\n",
              "</style>\n",
              "<table border=\"1\" class=\"dataframe\">\n",
              "  <thead>\n",
              "    <tr style=\"text-align: right;\">\n",
              "      <th></th>\n",
              "      <th>Sub Category</th>\n",
              "      <th>Profit</th>\n",
              "    </tr>\n",
              "  </thead>\n",
              "  <tbody>\n",
              "    <tr>\n",
              "      <th>13</th>\n",
              "      <td>Health Drinks</td>\n",
              "      <td>267469.79</td>\n",
              "    </tr>\n",
              "    <tr>\n",
              "      <th>21</th>\n",
              "      <td>Soft Drinks</td>\n",
              "      <td>258135.97</td>\n",
              "    </tr>\n",
              "  </tbody>\n",
              "</table>\n",
              "</div>"
            ],
            "text/plain": [
              "     Sub Category     Profit\n",
              "13  Health Drinks  267469.79\n",
              "21    Soft Drinks  258135.97"
            ]
          },
          "execution_count": 60,
          "metadata": {},
          "output_type": "execute_result"
        }
      ],
      "source": [
        "df2[df2['Profit'] > 193685.81][['Sub Category', 'Profit']]"
      ]
    },
    {
      "cell_type": "code",
      "execution_count": null,
      "id": "ca85d687",
      "metadata": {
        "id": "ca85d687",
        "outputId": "16330a01-093e-4ebf-c425-cc97ed342ee3"
      },
      "outputs": [
        {
          "data": {
            "text/plain": [
              "13    267469.79\n",
              "21    258135.97\n",
              "16    193685.81\n",
              "2     190764.98\n",
              "6     190643.70\n",
              "5     183849.34\n",
              "1     169357.62\n",
              "14    168999.11\n",
              "8     168593.58\n",
              "3     168398.46\n",
              "Name: Profit, dtype: float64"
            ]
          },
          "execution_count": 61,
          "metadata": {},
          "output_type": "execute_result"
        }
      ],
      "source": [
        "df2['Profit'].nlargest(n=10)"
      ]
    },
    {
      "cell_type": "code",
      "execution_count": null,
      "id": "b32599f9",
      "metadata": {
        "id": "b32599f9",
        "outputId": "3459414e-25a8-498a-98ed-df5e1a2ff875"
      },
      "outputs": [
        {
          "data": {
            "text/html": [
              "<div>\n",
              "<style scoped>\n",
              "    .dataframe tbody tr th:only-of-type {\n",
              "        vertical-align: middle;\n",
              "    }\n",
              "\n",
              "    .dataframe tbody tr th {\n",
              "        vertical-align: top;\n",
              "    }\n",
              "\n",
              "    .dataframe thead th {\n",
              "        text-align: right;\n",
              "    }\n",
              "</style>\n",
              "<table border=\"1\" class=\"dataframe\">\n",
              "  <thead>\n",
              "    <tr style=\"text-align: right;\">\n",
              "      <th></th>\n",
              "      <th>Sub Category</th>\n",
              "      <th>Discount</th>\n",
              "      <th>Profit</th>\n",
              "      <th>Sales</th>\n",
              "      <th>P/S</th>\n",
              "    </tr>\n",
              "  </thead>\n",
              "  <tbody>\n",
              "    <tr>\n",
              "      <th>1</th>\n",
              "      <td>Biscuits</td>\n",
              "      <td>103.29</td>\n",
              "      <td>169357.62</td>\n",
              "      <td>684083</td>\n",
              "      <td>24.76</td>\n",
              "    </tr>\n",
              "    <tr>\n",
              "      <th>2</th>\n",
              "      <td>Breads &amp; Buns</td>\n",
              "      <td>113.70</td>\n",
              "      <td>190764.98</td>\n",
              "      <td>742586</td>\n",
              "      <td>25.69</td>\n",
              "    </tr>\n",
              "    <tr>\n",
              "      <th>3</th>\n",
              "      <td>Cakes</td>\n",
              "      <td>101.54</td>\n",
              "      <td>168398.46</td>\n",
              "      <td>685612</td>\n",
              "      <td>24.56</td>\n",
              "    </tr>\n",
              "    <tr>\n",
              "      <th>5</th>\n",
              "      <td>Chocolates</td>\n",
              "      <td>112.60</td>\n",
              "      <td>183849.34</td>\n",
              "      <td>733898</td>\n",
              "      <td>25.05</td>\n",
              "    </tr>\n",
              "    <tr>\n",
              "      <th>6</th>\n",
              "      <td>Cookies</td>\n",
              "      <td>113.72</td>\n",
              "      <td>190643.70</td>\n",
              "      <td>768213</td>\n",
              "      <td>24.82</td>\n",
              "    </tr>\n",
              "    <tr>\n",
              "      <th>8</th>\n",
              "      <td>Edible Oil &amp; Ghee</td>\n",
              "      <td>103.51</td>\n",
              "      <td>168593.58</td>\n",
              "      <td>668086</td>\n",
              "      <td>25.24</td>\n",
              "    </tr>\n",
              "    <tr>\n",
              "      <th>13</th>\n",
              "      <td>Health Drinks</td>\n",
              "      <td>166.49</td>\n",
              "      <td>267469.79</td>\n",
              "      <td>1051439</td>\n",
              "      <td>25.44</td>\n",
              "    </tr>\n",
              "    <tr>\n",
              "      <th>14</th>\n",
              "      <td>Masalas</td>\n",
              "      <td>103.65</td>\n",
              "      <td>168999.11</td>\n",
              "      <td>697480</td>\n",
              "      <td>24.23</td>\n",
              "    </tr>\n",
              "    <tr>\n",
              "      <th>16</th>\n",
              "      <td>Noodles</td>\n",
              "      <td>109.86</td>\n",
              "      <td>193685.81</td>\n",
              "      <td>735435</td>\n",
              "      <td>26.34</td>\n",
              "    </tr>\n",
              "    <tr>\n",
              "      <th>21</th>\n",
              "      <td>Soft Drinks</td>\n",
              "      <td>155.97</td>\n",
              "      <td>258135.97</td>\n",
              "      <td>1033874</td>\n",
              "      <td>24.97</td>\n",
              "    </tr>\n",
              "  </tbody>\n",
              "</table>\n",
              "</div>"
            ],
            "text/plain": [
              "         Sub Category  Discount     Profit    Sales    P/S\n",
              "1            Biscuits    103.29  169357.62   684083  24.76\n",
              "2       Breads & Buns    113.70  190764.98   742586  25.69\n",
              "3               Cakes    101.54  168398.46   685612  24.56\n",
              "5          Chocolates    112.60  183849.34   733898  25.05\n",
              "6             Cookies    113.72  190643.70   768213  24.82\n",
              "8   Edible Oil & Ghee    103.51  168593.58   668086  25.24\n",
              "13      Health Drinks    166.49  267469.79  1051439  25.44\n",
              "14            Masalas    103.65  168999.11   697480  24.23\n",
              "16            Noodles    109.86  193685.81   735435  26.34\n",
              "21        Soft Drinks    155.97  258135.97  1033874  24.97"
            ]
          },
          "execution_count": 62,
          "metadata": {},
          "output_type": "execute_result"
        }
      ],
      "source": [
        "df2[df2['Profit'] > 168398]"
      ]
    },
    {
      "cell_type": "code",
      "execution_count": null,
      "id": "3621eb4d",
      "metadata": {
        "id": "3621eb4d"
      },
      "outputs": [],
      "source": [
        "def get_sub(df2):\n",
        "    lst = []\n",
        "    for i in df2['Sub Category']:\n",
        "        lst.append(i)\n",
        "    return lst"
      ]
    },
    {
      "cell_type": "code",
      "execution_count": null,
      "id": "47bb204f",
      "metadata": {
        "id": "47bb204f"
      },
      "outputs": [],
      "source": [
        "tt = df2[df2['Profit'] > 168398]"
      ]
    },
    {
      "cell_type": "code",
      "execution_count": null,
      "id": "f3b89873",
      "metadata": {
        "id": "f3b89873",
        "outputId": "42ac19a5-0d8e-4819-d0ea-37ab41658709"
      },
      "outputs": [
        {
          "data": {
            "text/plain": [
              "['Biscuits',\n",
              " 'Breads & Buns',\n",
              " 'Cakes',\n",
              " 'Chocolates',\n",
              " 'Cookies',\n",
              " 'Edible Oil & Ghee',\n",
              " 'Health Drinks',\n",
              " 'Masalas',\n",
              " 'Noodles',\n",
              " 'Soft Drinks']"
            ]
          },
          "execution_count": 65,
          "metadata": {},
          "output_type": "execute_result"
        }
      ],
      "source": [
        "get_sub(tt)"
      ]
    },
    {
      "cell_type": "code",
      "execution_count": null,
      "id": "0176f560",
      "metadata": {
        "id": "0176f560",
        "outputId": "be9cd1ba-49e0-4494-fcc1-b1bb713d0ffe"
      },
      "outputs": [
        {
          "data": {
            "text/plain": [
              "[Text(0, 0, 'Biscuits'),\n",
              " Text(1, 0, 'Breads & Buns'),\n",
              " Text(2, 0, 'Cakes'),\n",
              " Text(3, 0, 'Chocolates'),\n",
              " Text(4, 0, 'Cookies'),\n",
              " Text(5, 0, 'Edible Oil & Ghee'),\n",
              " Text(6, 0, 'Health Drinks'),\n",
              " Text(7, 0, 'Masalas'),\n",
              " Text(8, 0, 'Noodles'),\n",
              " Text(9, 0, 'Soft Drinks')]"
            ]
          },
          "execution_count": 66,
          "metadata": {},
          "output_type": "execute_result"
        },
        {
          "data": {
            "image/png": "[encoded data removed]",
            "text/plain": [
              "<Figure size 432x288 with 1 Axes>"
            ]
          },
          "metadata": {
            "needs_background": "light"
          },
          "output_type": "display_data"
        }
      ],
      "source": [
        "plot = sn.barplot(x = 'Sub Category', y = 'Profit', data = df2[df2['Profit'] > 168398])\n",
        "\n",
        "plot.set_xticklabels(labels = get_sub(tt), rotation = 90)"
      ]
    },
    {
      "cell_type": "code",
      "execution_count": null,
      "id": "2afd4ddc",
      "metadata": {
        "id": "2afd4ddc",
        "outputId": "efe388d1-7eda-488c-9367-3ed4650217c7"
      },
      "outputs": [
        {
          "data": {
            "text/plain": [
              "13    166.49\n",
              "21    155.97\n",
              "6     113.72\n",
              "2     113.70\n",
              "5     112.60\n",
              "16    109.86\n",
              "14    103.65\n",
              "8     103.51\n",
              "1     103.29\n",
              "3     101.54\n",
              "Name: Discount, dtype: float64"
            ]
          },
          "execution_count": 67,
          "metadata": {},
          "output_type": "execute_result"
        }
      ],
      "source": [
        "df2['Discount'].nlargest(n=10)"
      ]
    },
    {
      "cell_type": "code",
      "execution_count": null,
      "id": "e5fd8901",
      "metadata": {
        "id": "e5fd8901",
        "outputId": "915f7857-dddf-4cc3-e838-74a001dbf9c9"
      },
      "outputs": [
        {
          "data": {
            "text/html": [
              "<div>\n",
              "<style scoped>\n",
              "    .dataframe tbody tr th:only-of-type {\n",
              "        vertical-align: middle;\n",
              "    }\n",
              "\n",
              "    .dataframe tbody tr th {\n",
              "        vertical-align: top;\n",
              "    }\n",
              "\n",
              "    .dataframe thead th {\n",
              "        text-align: right;\n",
              "    }\n",
              "</style>\n",
              "<table border=\"1\" class=\"dataframe\">\n",
              "  <thead>\n",
              "    <tr style=\"text-align: right;\">\n",
              "      <th></th>\n",
              "      <th>Sub Category</th>\n",
              "      <th>Discount</th>\n",
              "      <th>Profit</th>\n",
              "      <th>Sales</th>\n",
              "      <th>P/S</th>\n",
              "    </tr>\n",
              "  </thead>\n",
              "  <tbody>\n",
              "    <tr>\n",
              "      <th>13</th>\n",
              "      <td>Health Drinks</td>\n",
              "      <td>166.49</td>\n",
              "      <td>267469.79</td>\n",
              "      <td>1051439</td>\n",
              "      <td>25.44</td>\n",
              "    </tr>\n",
              "    <tr>\n",
              "      <th>21</th>\n",
              "      <td>Soft Drinks</td>\n",
              "      <td>155.97</td>\n",
              "      <td>258135.97</td>\n",
              "      <td>1033874</td>\n",
              "      <td>24.97</td>\n",
              "    </tr>\n",
              "  </tbody>\n",
              "</table>\n",
              "</div>"
            ],
            "text/plain": [
              "     Sub Category  Discount     Profit    Sales    P/S\n",
              "13  Health Drinks    166.49  267469.79  1051439  25.44\n",
              "21    Soft Drinks    155.97  258135.97  1033874  24.97"
            ]
          },
          "execution_count": 68,
          "metadata": {},
          "output_type": "execute_result"
        }
      ],
      "source": [
        "df2[df2['Discount'] > 155]"
      ]
    },
    {
      "cell_type": "markdown",
      "id": "c1ac23b2",
      "metadata": {
        "id": "c1ac23b2"
      },
      "source": [
        "# most profitable item has been given the highest discount"
      ]
    },
    {
      "cell_type": "code",
      "execution_count": null,
      "id": "a46f5e2c",
      "metadata": {
        "id": "a46f5e2c",
        "outputId": "82732a73-ef38-43cf-9b49-f65c9731e5a1"
      },
      "outputs": [
        {
          "data": {
            "text/plain": [
              "<seaborn.axisgrid.PairGrid at 0x7f842f47c9d0>"
            ]
          },
          "execution_count": 69,
          "metadata": {},
          "output_type": "execute_result"
        },
        {
          "data": {
            "image/png": "[encoded data removed]",
            "text/plain": [
              "<Figure size 648x648 with 12 Axes>"
            ]
          },
          "metadata": {
            "needs_background": "light"
          },
          "output_type": "display_data"
        }
      ],
      "source": [
        "features = ['Discount', 'Profit', 'Sales']\n",
        "sn.pairplot(df2[features], height = 3)"
      ]
    },
    {
      "cell_type": "code",
      "execution_count": null,
      "id": "46caea19",
      "metadata": {
        "id": "46caea19",
        "outputId": "c97a505a-c001-4d6d-923a-5431c944937b"
      },
      "outputs": [
        {
          "data": {
            "text/plain": [
              "<AxesSubplot:>"
            ]
          },
          "execution_count": 70,
          "metadata": {},
          "output_type": "execute_result"
        },
        {
          "data": {
            "image/png": "[encoded data removed]",
            "text/plain": [
              "<Figure size 432x288 with 2 Axes>"
            ]
          },
          "metadata": {
            "needs_background": "light"
          },
          "output_type": "display_data"
        }
      ],
      "source": [
        "sn.heatmap(df2[features].corr(), annot = True)"
      ]
    },
    {
      "cell_type": "markdown",
      "id": "062e525e",
      "metadata": {
        "id": "062e525e"
      },
      "source": [
        "# Z - Test"
      ]
    },
    {
      "cell_type": "markdown",
      "id": "d61a2c78",
      "metadata": {
        "id": "d61a2c78"
      },
      "source": [
        "## Values required for Z-test\n",
        "### mu - population mean\n",
        "### sd - population standard deviation\n",
        "### X - sample mean\n",
        "### n - sample size\n",
        "\n",
        "## formula\n",
        "\n",
        "### Z = (X-mu)/(sd/sqrt(n))"
      ]
    },
    {
      "cell_type": "code",
      "execution_count": null,
      "id": "672af9a1",
      "metadata": {
        "id": "672af9a1"
      },
      "outputs": [],
      "source": [
        "soft_drinks_df = df[df['Sub Category'] == 'Soft Drinks']"
      ]
    },
    {
      "cell_type": "code",
      "execution_count": null,
      "id": "23b4a653",
      "metadata": {
        "id": "23b4a653"
      },
      "outputs": [],
      "source": [
        "soft_drinks_df = soft_drinks_df[['City','Order Date','Sales', 'Discount', 'Profit']]"
      ]
    },
    {
      "cell_type": "code",
      "execution_count": null,
      "id": "48138f2e",
      "metadata": {
        "id": "48138f2e",
        "outputId": "b223dade-3946-4e97-ce41-bb8629998e4c"
      },
      "outputs": [
        {
          "data": {
            "text/plain": [
              "array(['Vellore', 'Krishnagiri', 'Perambalur', 'Dharmapuri', 'Ooty',\n",
              "       'Trichy', 'Ramanadhapuram', 'Tirunelveli', 'Chennai', 'Karur',\n",
              "       'Namakkal', 'Dindigul', 'Kanyakumari', 'Bodi', 'Tenkasi',\n",
              "       'Viluppuram', 'Madurai', 'Salem', 'Cumbum', 'Nagercoil',\n",
              "       'Pudukottai', 'Theni', 'Coimbatore', 'Virudhunagar'], dtype=object)"
            ]
          },
          "execution_count": 73,
          "metadata": {},
          "output_type": "execute_result"
        }
      ],
      "source": [
        "df['City'].unique()"
      ]
    },
    {
      "cell_type": "code",
      "execution_count": null,
      "id": "2e488ab1",
      "metadata": {
        "id": "2e488ab1",
        "outputId": "aab71ea5-3fce-4c0f-9b12-4aa8d6480f61"
      },
      "outputs": [
        {
          "data": {
            "text/html": [
              "<div>\n",
              "<style scoped>\n",
              "    .dataframe tbody tr th:only-of-type {\n",
              "        vertical-align: middle;\n",
              "    }\n",
              "\n",
              "    .dataframe tbody tr th {\n",
              "        vertical-align: top;\n",
              "    }\n",
              "\n",
              "    .dataframe thead th {\n",
              "        text-align: right;\n",
              "    }\n",
              "</style>\n",
              "<table border=\"1\" class=\"dataframe\">\n",
              "  <thead>\n",
              "    <tr style=\"text-align: right;\">\n",
              "      <th></th>\n",
              "      <th>City</th>\n",
              "      <th>Order Date</th>\n",
              "      <th>Sales</th>\n",
              "      <th>Discount</th>\n",
              "      <th>Profit</th>\n",
              "    </tr>\n",
              "  </thead>\n",
              "  <tbody>\n",
              "    <tr>\n",
              "      <th>5438</th>\n",
              "      <td>Namakkal</td>\n",
              "      <td>2015-01-20</td>\n",
              "      <td>1393</td>\n",
              "      <td>0.30</td>\n",
              "      <td>431.83</td>\n",
              "    </tr>\n",
              "    <tr>\n",
              "      <th>1717</th>\n",
              "      <td>Theni</td>\n",
              "      <td>2015-01-20</td>\n",
              "      <td>603</td>\n",
              "      <td>0.28</td>\n",
              "      <td>168.84</td>\n",
              "    </tr>\n",
              "    <tr>\n",
              "      <th>3231</th>\n",
              "      <td>Ooty</td>\n",
              "      <td>2015-01-20</td>\n",
              "      <td>1785</td>\n",
              "      <td>0.29</td>\n",
              "      <td>624.75</td>\n",
              "    </tr>\n",
              "    <tr>\n",
              "      <th>4110</th>\n",
              "      <td>Ooty</td>\n",
              "      <td>2015-01-20</td>\n",
              "      <td>1768</td>\n",
              "      <td>0.13</td>\n",
              "      <td>353.60</td>\n",
              "    </tr>\n",
              "    <tr>\n",
              "      <th>6237</th>\n",
              "      <td>Madurai</td>\n",
              "      <td>2015-01-26</td>\n",
              "      <td>666</td>\n",
              "      <td>0.29</td>\n",
              "      <td>133.20</td>\n",
              "    </tr>\n",
              "    <tr>\n",
              "      <th>...</th>\n",
              "      <td>...</td>\n",
              "      <td>...</td>\n",
              "      <td>...</td>\n",
              "      <td>...</td>\n",
              "      <td>...</td>\n",
              "    </tr>\n",
              "    <tr>\n",
              "      <th>3438</th>\n",
              "      <td>Tirunelveli</td>\n",
              "      <td>2018-12-25</td>\n",
              "      <td>548</td>\n",
              "      <td>0.30</td>\n",
              "      <td>65.76</td>\n",
              "    </tr>\n",
              "    <tr>\n",
              "      <th>7767</th>\n",
              "      <td>Ramanadhapuram</td>\n",
              "      <td>2018-12-25</td>\n",
              "      <td>702</td>\n",
              "      <td>0.30</td>\n",
              "      <td>49.14</td>\n",
              "    </tr>\n",
              "    <tr>\n",
              "      <th>7963</th>\n",
              "      <td>Namakkal</td>\n",
              "      <td>2018-12-27</td>\n",
              "      <td>2233</td>\n",
              "      <td>0.19</td>\n",
              "      <td>870.87</td>\n",
              "    </tr>\n",
              "    <tr>\n",
              "      <th>2859</th>\n",
              "      <td>Chennai</td>\n",
              "      <td>2018-12-29</td>\n",
              "      <td>988</td>\n",
              "      <td>0.32</td>\n",
              "      <td>355.68</td>\n",
              "    </tr>\n",
              "    <tr>\n",
              "      <th>4696</th>\n",
              "      <td>Ramanadhapuram</td>\n",
              "      <td>2018-12-30</td>\n",
              "      <td>1690</td>\n",
              "      <td>0.19</td>\n",
              "      <td>135.20</td>\n",
              "    </tr>\n",
              "  </tbody>\n",
              "</table>\n",
              "<p>681 rows × 5 columns</p>\n",
              "</div>"
            ],
            "text/plain": [
              "                City Order Date  Sales  Discount  Profit\n",
              "5438        Namakkal 2015-01-20   1393      0.30  431.83\n",
              "1717           Theni 2015-01-20    603      0.28  168.84\n",
              "3231            Ooty 2015-01-20   1785      0.29  624.75\n",
              "4110            Ooty 2015-01-20   1768      0.13  353.60\n",
              "6237         Madurai 2015-01-26    666      0.29  133.20\n",
              "...              ...        ...    ...       ...     ...\n",
              "3438     Tirunelveli 2018-12-25    548      0.30   65.76\n",
              "7767  Ramanadhapuram 2018-12-25    702      0.30   49.14\n",
              "7963        Namakkal 2018-12-27   2233      0.19  870.87\n",
              "2859         Chennai 2018-12-29    988      0.32  355.68\n",
              "4696  Ramanadhapuram 2018-12-30   1690      0.19  135.20\n",
              "\n",
              "[681 rows x 5 columns]"
            ]
          },
          "execution_count": 74,
          "metadata": {},
          "output_type": "execute_result"
        }
      ],
      "source": [
        "soft_drinks_df.sort_values('Order Date')"
      ]
    },
    {
      "cell_type": "code",
      "execution_count": null,
      "id": "9ee4d485",
      "metadata": {
        "id": "9ee4d485",
        "outputId": "a543dc60-ffb5-4273-d17c-53de80978fee"
      },
      "outputs": [
        {
          "name": "stdout",
          "output_type": "stream",
          "text": [
            "<class 'pandas.core.frame.DataFrame'>\n",
            "Int64Index: 681 entries, 19 to 9945\n",
            "Data columns (total 5 columns):\n",
            " #   Column      Non-Null Count  Dtype         \n",
            "---  ------      --------------  -----         \n",
            " 0   City        681 non-null    object        \n",
            " 1   Order Date  681 non-null    datetime64[ns]\n",
            " 2   Sales       681 non-null    int64         \n",
            " 3   Discount    681 non-null    float64       \n",
            " 4   Profit      681 non-null    float64       \n",
            "dtypes: datetime64[ns](1), float64(2), int64(1), object(1)\n",
            "memory usage: 31.9+ KB\n"
          ]
        }
      ],
      "source": [
        "soft_drinks_df.info()"
      ]
    },
    {
      "cell_type": "markdown",
      "id": "202c08c5",
      "metadata": {
        "id": "202c08c5"
      },
      "source": [
        "### the underlying distribution of profit column"
      ]
    },
    {
      "cell_type": "code",
      "execution_count": null,
      "id": "17ef49d0",
      "metadata": {
        "id": "17ef49d0",
        "outputId": "7a9aa700-a358-4f88-cf9e-750b117d3224"
      },
      "outputs": [
        {
          "data": {
            "text/plain": [
              "(array([ 91., 142., 119., 104.,  72.,  67.,  39.,  19.,  17.,  11.]),\n",
              " array([  25.25 ,  132.255,  239.26 ,  346.265,  453.27 ,  560.275,\n",
              "         667.28 ,  774.285,  881.29 ,  988.295, 1095.3  ]),\n",
              " <BarContainer object of 10 artists>)"
            ]
          },
          "execution_count": 76,
          "metadata": {},
          "output_type": "execute_result"
        },
        {
          "data": {
            "image/png": "[encoded data removed]",
            "text/plain": [
              "<Figure size 432x288 with 1 Axes>"
            ]
          },
          "metadata": {
            "needs_background": "light"
          },
          "output_type": "display_data"
        }
      ],
      "source": [
        "plt.hist(soft_drinks_df['Profit'])"
      ]
    },
    {
      "cell_type": "code",
      "execution_count": null,
      "id": "cffd8c3b",
      "metadata": {
        "id": "cffd8c3b"
      },
      "outputs": [],
      "source": [
        "population_mean = soft_drinks_df['Profit'].mean()"
      ]
    },
    {
      "cell_type": "code",
      "execution_count": null,
      "id": "507fa9f8",
      "metadata": {
        "id": "507fa9f8"
      },
      "outputs": [],
      "source": [
        "sample = soft_drinks_df['Profit'].sample(n=30)"
      ]
    },
    {
      "cell_type": "code",
      "execution_count": null,
      "id": "0312dcd9",
      "metadata": {
        "id": "0312dcd9"
      },
      "outputs": [],
      "source": [
        "sample_mean = sample.mean()"
      ]
    },
    {
      "cell_type": "code",
      "execution_count": null,
      "id": "03c1aa41",
      "metadata": {
        "id": "03c1aa41",
        "outputId": "1fb0d3e8-758e-4669-c4fa-89a3b274e1ee"
      },
      "outputs": [
        {
          "data": {
            "text/plain": [
              "379.05428781204097"
            ]
          },
          "execution_count": 80,
          "metadata": {},
          "output_type": "execute_result"
        }
      ],
      "source": [
        "population_mean"
      ]
    },
    {
      "cell_type": "code",
      "execution_count": null,
      "id": "6dc8ce01",
      "metadata": {
        "id": "6dc8ce01"
      },
      "outputs": [],
      "source": [
        "pop_sd = soft_drinks_df['Profit'].std() # population sd"
      ]
    },
    {
      "cell_type": "code",
      "execution_count": null,
      "id": "9e3c5e25",
      "metadata": {
        "id": "9e3c5e25"
      },
      "outputs": [],
      "source": [
        "def z_test(population_mean, sample_mean, pop_sd, sample_size):\n",
        "    z_score = (sample_mean - population_mean)/(pop_sd/np.sqrt(sample_size))\n",
        "    return z_score, stats.norm.cdf(z_score)"
      ]
    },
    {
      "cell_type": "code",
      "execution_count": null,
      "id": "fbecf799",
      "metadata": {
        "id": "fbecf799",
        "outputId": "f3ff7c79-cece-4fd3-f557-b65363f533e3"
      },
      "outputs": [
        {
          "name": "stdout",
          "output_type": "stream",
          "text": [
            "z_score =  0.2576232193394829  p value =  0.6016511459952777\n"
          ]
        }
      ],
      "source": [
        "# z test\n",
        "\n",
        "# H0: mu = 379\n",
        "# Ha: mu != 379\n",
        "\n",
        "ans = z_test(population_mean, sample_mean, pop_sd, 30)\n",
        "print('z_score = ', ans[0], ' p value = ', ans[1])"
      ]
    },
    {
      "cell_type": "markdown",
      "id": "83c88c54",
      "metadata": {
        "id": "83c88c54"
      },
      "source": [
        "### since the z score is less than significance limit, we fail to reject the null hypothesis"
      ]
    },
    {
      "cell_type": "code",
      "execution_count": null,
      "id": "b68bfe55",
      "metadata": {
        "id": "b68bfe55",
        "outputId": "f4bb4920-de36-46fc-aa22-586fa9542db9"
      },
      "outputs": [
        {
          "name": "stdout",
          "output_type": "stream",
          "text": [
            "z_score =  4.415578220889051  p value =  0.99999496298287\n"
          ]
        }
      ],
      "source": [
        "# Z test\n",
        "\n",
        "# H0: mu = 200   // our null hypothesis is that the average profit of soft drinks is 200 rupees.\n",
        "# Ha: mu != 200  // our alternative hypothesis is that the average profit of soft drinks is not 200 rupees.\n",
        "\n",
        "# alpha = 0.05\n",
        "# confidence level is 95% so the critical value is 1.96\n",
        "\n",
        "\n",
        "\n",
        "ans = z_test(200, sample_mean, pop_sd, 30)\n",
        "print('z_score = ', ans[0], ' p value = ', ans[1])"
      ]
    },
    {
      "cell_type": "markdown",
      "id": "74e16764",
      "metadata": {
        "id": "74e16764"
      },
      "source": [
        "### we see that z score is more than the significance level. i.e. 4.16 > 1.96.\n",
        "### so we reject the null hypothesis"
      ]
    },
    {
      "cell_type": "markdown",
      "id": "1084141e",
      "metadata": {
        "id": "1084141e"
      },
      "source": [
        "# t - Test"
      ]
    },
    {
      "cell_type": "code",
      "execution_count": null,
      "id": "a5918dca",
      "metadata": {
        "id": "a5918dca"
      },
      "outputs": [],
      "source": [
        "sample = soft_drinks_df['Profit'].sample(n=30)"
      ]
    },
    {
      "cell_type": "code",
      "execution_count": null,
      "id": "eba4d371",
      "metadata": {
        "id": "eba4d371"
      },
      "outputs": [],
      "source": [
        "sample_mean = sample.mean()"
      ]
    },
    {
      "cell_type": "code",
      "execution_count": null,
      "id": "04fc88e0",
      "metadata": {
        "id": "04fc88e0"
      },
      "outputs": [],
      "source": [
        "sample_sd = sample.std()"
      ]
    },
    {
      "cell_type": "code",
      "execution_count": null,
      "id": "58de2e5e",
      "metadata": {
        "id": "58de2e5e"
      },
      "outputs": [],
      "source": []
    },
    {
      "cell_type": "code",
      "execution_count": null,
      "id": "42f9c8b3",
      "metadata": {
        "id": "42f9c8b3"
      },
      "outputs": [],
      "source": [
        "# t test for 90% confidence and sample size = 30\n",
        "\n",
        "def t_test(sample_mean, sample_sd, sample_size):\n",
        "    ll = sample_mean - 1.699*(sample_sd/np.sqrt(sample_size))\n",
        "    ul = sample_mean + 1.699*(sample_sd/np.sqrt(sample_size))\n",
        "    return ll, ul"
      ]
    },
    {
      "cell_type": "code",
      "execution_count": null,
      "id": "5930f1e0",
      "metadata": {
        "id": "5930f1e0",
        "outputId": "68b7fd31-1c5e-4a75-a4d6-9c9239be8265"
      },
      "outputs": [
        {
          "name": "stdout",
          "output_type": "stream",
          "text": [
            "at 90% confidence interval\n",
            " 322.8975535098786  <= mu <=  454.29244649012145\n"
          ]
        }
      ],
      "source": [
        "ans = t_test(sample_mean, sample_sd, 30)\n",
        "print('at 90% confidence interval\\n',ans[0],' <= mu <= ',ans[1])"
      ]
    },
    {
      "cell_type": "code",
      "execution_count": null,
      "id": "931d146d",
      "metadata": {
        "id": "931d146d",
        "outputId": "1cf2e97f-730a-4355-cc5d-741ecda54450"
      },
      "outputs": [
        {
          "data": {
            "text/plain": [
              "379.05428781204097"
            ]
          },
          "execution_count": 90,
          "metadata": {},
          "output_type": "execute_result"
        }
      ],
      "source": [
        "soft_drinks_df['Profit'].mean()"
      ]
    },
    {
      "cell_type": "markdown",
      "id": "52e4e391",
      "metadata": {
        "id": "52e4e391"
      },
      "source": [
        "### so, we have confirmed that the population mean lies between the found out values"
      ]
    },
    {
      "cell_type": "code",
      "execution_count": null,
      "id": "3cd19654",
      "metadata": {
        "id": "3cd19654",
        "outputId": "bf475f35-aa55-45e1-e31a-8d5bb77f9a01"
      },
      "outputs": [
        {
          "data": {
            "text/html": [
              "<div>\n",
              "<style scoped>\n",
              "    .dataframe tbody tr th:only-of-type {\n",
              "        vertical-align: middle;\n",
              "    }\n",
              "\n",
              "    .dataframe tbody tr th {\n",
              "        vertical-align: top;\n",
              "    }\n",
              "\n",
              "    .dataframe thead th {\n",
              "        text-align: right;\n",
              "    }\n",
              "</style>\n",
              "<table border=\"1\" class=\"dataframe\">\n",
              "  <thead>\n",
              "    <tr style=\"text-align: right;\">\n",
              "      <th></th>\n",
              "      <th>City</th>\n",
              "      <th>Order Date</th>\n",
              "      <th>Sales</th>\n",
              "      <th>Discount</th>\n",
              "      <th>Profit</th>\n",
              "    </tr>\n",
              "  </thead>\n",
              "  <tbody>\n",
              "    <tr>\n",
              "      <th>19</th>\n",
              "      <td>Kanyakumari</td>\n",
              "      <td>2015-08-27</td>\n",
              "      <td>692</td>\n",
              "      <td>0.29</td>\n",
              "      <td>159.16</td>\n",
              "    </tr>\n",
              "    <tr>\n",
              "      <th>22</th>\n",
              "      <td>Krishnagiri</td>\n",
              "      <td>2017-12-09</td>\n",
              "      <td>707</td>\n",
              "      <td>0.34</td>\n",
              "      <td>148.47</td>\n",
              "    </tr>\n",
              "    <tr>\n",
              "      <th>28</th>\n",
              "      <td>Krishnagiri</td>\n",
              "      <td>2016-09-17</td>\n",
              "      <td>1988</td>\n",
              "      <td>0.22</td>\n",
              "      <td>874.72</td>\n",
              "    </tr>\n",
              "    <tr>\n",
              "      <th>30</th>\n",
              "      <td>Dharmapuri</td>\n",
              "      <td>2016-09-17</td>\n",
              "      <td>1845</td>\n",
              "      <td>0.24</td>\n",
              "      <td>166.05</td>\n",
              "    </tr>\n",
              "    <tr>\n",
              "      <th>36</th>\n",
              "      <td>Salem</td>\n",
              "      <td>2017-12-08</td>\n",
              "      <td>934</td>\n",
              "      <td>0.35</td>\n",
              "      <td>56.04</td>\n",
              "    </tr>\n",
              "    <tr>\n",
              "      <th>...</th>\n",
              "      <td>...</td>\n",
              "      <td>...</td>\n",
              "      <td>...</td>\n",
              "      <td>...</td>\n",
              "      <td>...</td>\n",
              "    </tr>\n",
              "    <tr>\n",
              "      <th>9928</th>\n",
              "      <td>Karur</td>\n",
              "      <td>2018-07-31</td>\n",
              "      <td>1688</td>\n",
              "      <td>0.18</td>\n",
              "      <td>185.68</td>\n",
              "    </tr>\n",
              "    <tr>\n",
              "      <th>9933</th>\n",
              "      <td>Dindigul</td>\n",
              "      <td>2017-09-26</td>\n",
              "      <td>1316</td>\n",
              "      <td>0.18</td>\n",
              "      <td>78.96</td>\n",
              "    </tr>\n",
              "    <tr>\n",
              "      <th>9940</th>\n",
              "      <td>Kanyakumari</td>\n",
              "      <td>2015-03-18</td>\n",
              "      <td>2379</td>\n",
              "      <td>0.23</td>\n",
              "      <td>428.22</td>\n",
              "    </tr>\n",
              "    <tr>\n",
              "      <th>9942</th>\n",
              "      <td>Kanyakumari</td>\n",
              "      <td>2018-05-07</td>\n",
              "      <td>2088</td>\n",
              "      <td>0.32</td>\n",
              "      <td>668.16</td>\n",
              "    </tr>\n",
              "    <tr>\n",
              "      <th>9945</th>\n",
              "      <td>Tirunelveli</td>\n",
              "      <td>2016-11-20</td>\n",
              "      <td>2400</td>\n",
              "      <td>0.15</td>\n",
              "      <td>336.00</td>\n",
              "    </tr>\n",
              "  </tbody>\n",
              "</table>\n",
              "<p>681 rows × 5 columns</p>\n",
              "</div>"
            ],
            "text/plain": [
              "             City Order Date  Sales  Discount  Profit\n",
              "19    Kanyakumari 2015-08-27    692      0.29  159.16\n",
              "22    Krishnagiri 2017-12-09    707      0.34  148.47\n",
              "28    Krishnagiri 2016-09-17   1988      0.22  874.72\n",
              "30     Dharmapuri 2016-09-17   1845      0.24  166.05\n",
              "36          Salem 2017-12-08    934      0.35   56.04\n",
              "...           ...        ...    ...       ...     ...\n",
              "9928        Karur 2018-07-31   1688      0.18  185.68\n",
              "9933     Dindigul 2017-09-26   1316      0.18   78.96\n",
              "9940  Kanyakumari 2015-03-18   2379      0.23  428.22\n",
              "9942  Kanyakumari 2018-05-07   2088      0.32  668.16\n",
              "9945  Tirunelveli 2016-11-20   2400      0.15  336.00\n",
              "\n",
              "[681 rows x 5 columns]"
            ]
          },
          "execution_count": 91,
          "metadata": {},
          "output_type": "execute_result"
        }
      ],
      "source": [
        "soft_drinks_df"
      ]
    },
    {
      "cell_type": "code",
      "execution_count": null,
      "id": "47f6dfd3",
      "metadata": {
        "id": "47f6dfd3"
      },
      "outputs": [],
      "source": [
        "index_col = np.arange(681).reshape(681,1)"
      ]
    },
    {
      "cell_type": "code",
      "execution_count": null,
      "id": "531db0be",
      "metadata": {
        "id": "531db0be",
        "outputId": "abb5a89e-9b2e-47f2-a1a4-6be5e631567c"
      },
      "outputs": [
        {
          "data": {
            "text/plain": [
              "[<matplotlib.lines.Line2D at 0x7f842f5ad610>]"
            ]
          },
          "execution_count": 93,
          "metadata": {},
          "output_type": "execute_result"
        },
        {
          "data": {
            "image/png": "[encoded data removed]",
            "text/plain": [
              "<Figure size 2160x720 with 1 Axes>"
            ]
          },
          "metadata": {
            "needs_background": "light"
          },
          "output_type": "display_data"
        }
      ],
      "source": [
        "# soft_drinks_df = soft_drinks_df.drop('index_col', axis = 1)\n",
        "soft_drinks_df = soft_drinks_df.sort_values('Order Date')\n",
        "soft_drinks_df['index_col'] = index_col\n",
        "plt.figure(figsize=(30, 10))\n",
        "plt.plot(soft_drinks_df['index_col'], soft_drinks_df['Sales'])"
      ]
    },
    {
      "cell_type": "code",
      "execution_count": null,
      "id": "30f688d6",
      "metadata": {
        "id": "30f688d6",
        "outputId": "8ff72f3e-7b54-4c8e-ab01-f71816153992"
      },
      "outputs": [
        {
          "data": {
            "text/plain": [
              "array(['Namakkal', 'Theni', 'Ooty', 'Madurai', 'Dharmapuri', 'Trichy',\n",
              "       'Krishnagiri', 'Pudukottai', 'Perambalur', 'Kanyakumari',\n",
              "       'Tenkasi', 'Salem', 'Dindigul', 'Chennai', 'Tirunelveli', 'Bodi',\n",
              "       'Nagercoil', 'Cumbum', 'Ramanadhapuram', 'Karur', 'Vellore',\n",
              "       'Viluppuram', 'Virudhunagar', 'Coimbatore'], dtype=object)"
            ]
          },
          "execution_count": 94,
          "metadata": {},
          "output_type": "execute_result"
        }
      ],
      "source": [
        "soft_drinks_df['City'].unique()"
      ]
    },
    {
      "cell_type": "code",
      "execution_count": null,
      "id": "ad3bf7aa",
      "metadata": {
        "id": "ad3bf7aa",
        "outputId": "f6547f04-ca45-44fd-df2a-3bf1ec4568eb"
      },
      "outputs": [
        {
          "name": "stdout",
          "output_type": "stream",
          "text": [
            "<class 'pandas.core.frame.DataFrame'>\n",
            "Int64Index: 681 entries, 5438 to 4696\n",
            "Data columns (total 6 columns):\n",
            " #   Column      Non-Null Count  Dtype         \n",
            "---  ------      --------------  -----         \n",
            " 0   City        681 non-null    object        \n",
            " 1   Order Date  681 non-null    datetime64[ns]\n",
            " 2   Sales       681 non-null    int64         \n",
            " 3   Discount    681 non-null    float64       \n",
            " 4   Profit      681 non-null    float64       \n",
            " 5   index_col   681 non-null    int64         \n",
            "dtypes: datetime64[ns](1), float64(2), int64(2), object(1)\n",
            "memory usage: 37.2+ KB\n"
          ]
        }
      ],
      "source": [
        "soft_drinks_df.info()"
      ]
    },
    {
      "cell_type": "code",
      "execution_count": null,
      "id": "8e83538b",
      "metadata": {
        "id": "8e83538b"
      },
      "outputs": [],
      "source": [
        "soft_drinks_df['Order Date'] = pd.to_datetime(soft_drinks_df['Order Date']) - pd.to_timedelta(7, unit='d')"
      ]
    },
    {
      "cell_type": "code",
      "execution_count": null,
      "id": "1c6c5332",
      "metadata": {
        "id": "1c6c5332",
        "outputId": "20449eda-b712-4b23-f77f-51aaf39cd8f2"
      },
      "outputs": [
        {
          "data": {
            "text/html": [
              "<div>\n",
              "<style scoped>\n",
              "    .dataframe tbody tr th:only-of-type {\n",
              "        vertical-align: middle;\n",
              "    }\n",
              "\n",
              "    .dataframe tbody tr th {\n",
              "        vertical-align: top;\n",
              "    }\n",
              "\n",
              "    .dataframe thead th {\n",
              "        text-align: right;\n",
              "    }\n",
              "</style>\n",
              "<table border=\"1\" class=\"dataframe\">\n",
              "  <thead>\n",
              "    <tr style=\"text-align: right;\">\n",
              "      <th></th>\n",
              "      <th>City</th>\n",
              "      <th>Order Date</th>\n",
              "      <th>Sales</th>\n",
              "      <th>Discount</th>\n",
              "      <th>Profit</th>\n",
              "      <th>index_col</th>\n",
              "    </tr>\n",
              "  </thead>\n",
              "  <tbody>\n",
              "    <tr>\n",
              "      <th>5438</th>\n",
              "      <td>Namakkal</td>\n",
              "      <td>2015-01-13</td>\n",
              "      <td>1393</td>\n",
              "      <td>0.30</td>\n",
              "      <td>431.83</td>\n",
              "      <td>0</td>\n",
              "    </tr>\n",
              "    <tr>\n",
              "      <th>1717</th>\n",
              "      <td>Theni</td>\n",
              "      <td>2015-01-13</td>\n",
              "      <td>603</td>\n",
              "      <td>0.28</td>\n",
              "      <td>168.84</td>\n",
              "      <td>1</td>\n",
              "    </tr>\n",
              "    <tr>\n",
              "      <th>3231</th>\n",
              "      <td>Ooty</td>\n",
              "      <td>2015-01-13</td>\n",
              "      <td>1785</td>\n",
              "      <td>0.29</td>\n",
              "      <td>624.75</td>\n",
              "      <td>2</td>\n",
              "    </tr>\n",
              "    <tr>\n",
              "      <th>4110</th>\n",
              "      <td>Ooty</td>\n",
              "      <td>2015-01-13</td>\n",
              "      <td>1768</td>\n",
              "      <td>0.13</td>\n",
              "      <td>353.60</td>\n",
              "      <td>3</td>\n",
              "    </tr>\n",
              "    <tr>\n",
              "      <th>6237</th>\n",
              "      <td>Madurai</td>\n",
              "      <td>2015-01-19</td>\n",
              "      <td>666</td>\n",
              "      <td>0.29</td>\n",
              "      <td>133.20</td>\n",
              "      <td>4</td>\n",
              "    </tr>\n",
              "    <tr>\n",
              "      <th>...</th>\n",
              "      <td>...</td>\n",
              "      <td>...</td>\n",
              "      <td>...</td>\n",
              "      <td>...</td>\n",
              "      <td>...</td>\n",
              "      <td>...</td>\n",
              "    </tr>\n",
              "    <tr>\n",
              "      <th>3438</th>\n",
              "      <td>Tirunelveli</td>\n",
              "      <td>2018-12-18</td>\n",
              "      <td>548</td>\n",
              "      <td>0.30</td>\n",
              "      <td>65.76</td>\n",
              "      <td>676</td>\n",
              "    </tr>\n",
              "    <tr>\n",
              "      <th>7767</th>\n",
              "      <td>Ramanadhapuram</td>\n",
              "      <td>2018-12-18</td>\n",
              "      <td>702</td>\n",
              "      <td>0.30</td>\n",
              "      <td>49.14</td>\n",
              "      <td>677</td>\n",
              "    </tr>\n",
              "    <tr>\n",
              "      <th>7963</th>\n",
              "      <td>Namakkal</td>\n",
              "      <td>2018-12-20</td>\n",
              "      <td>2233</td>\n",
              "      <td>0.19</td>\n",
              "      <td>870.87</td>\n",
              "      <td>678</td>\n",
              "    </tr>\n",
              "    <tr>\n",
              "      <th>2859</th>\n",
              "      <td>Chennai</td>\n",
              "      <td>2018-12-22</td>\n",
              "      <td>988</td>\n",
              "      <td>0.32</td>\n",
              "      <td>355.68</td>\n",
              "      <td>679</td>\n",
              "    </tr>\n",
              "    <tr>\n",
              "      <th>4696</th>\n",
              "      <td>Ramanadhapuram</td>\n",
              "      <td>2018-12-23</td>\n",
              "      <td>1690</td>\n",
              "      <td>0.19</td>\n",
              "      <td>135.20</td>\n",
              "      <td>680</td>\n",
              "    </tr>\n",
              "  </tbody>\n",
              "</table>\n",
              "<p>681 rows × 6 columns</p>\n",
              "</div>"
            ],
            "text/plain": [
              "                City Order Date  Sales  Discount  Profit  index_col\n",
              "5438        Namakkal 2015-01-13   1393      0.30  431.83          0\n",
              "1717           Theni 2015-01-13    603      0.28  168.84          1\n",
              "3231            Ooty 2015-01-13   1785      0.29  624.75          2\n",
              "4110            Ooty 2015-01-13   1768      0.13  353.60          3\n",
              "6237         Madurai 2015-01-19    666      0.29  133.20          4\n",
              "...              ...        ...    ...       ...     ...        ...\n",
              "3438     Tirunelveli 2018-12-18    548      0.30   65.76        676\n",
              "7767  Ramanadhapuram 2018-12-18    702      0.30   49.14        677\n",
              "7963        Namakkal 2018-12-20   2233      0.19  870.87        678\n",
              "2859         Chennai 2018-12-22    988      0.32  355.68        679\n",
              "4696  Ramanadhapuram 2018-12-23   1690      0.19  135.20        680\n",
              "\n",
              "[681 rows x 6 columns]"
            ]
          },
          "execution_count": 97,
          "metadata": {},
          "output_type": "execute_result"
        }
      ],
      "source": [
        "soft_drinks_df"
      ]
    },
    {
      "cell_type": "code",
      "execution_count": null,
      "id": "a0d56fa3",
      "metadata": {
        "id": "a0d56fa3",
        "outputId": "c981f4bb-45ef-419d-84ef-18531240b378"
      },
      "outputs": [
        {
          "data": {
            "text/plain": [
              "Order Date\n",
              "2015-01-18     5549\n",
              "2015-01-25     2544\n",
              "2015-02-01        0\n",
              "2015-02-08     2010\n",
              "2015-02-15        0\n",
              "              ...  \n",
              "2018-11-25    12917\n",
              "2018-12-02    15750\n",
              "2018-12-09     9728\n",
              "2018-12-16     9487\n",
              "2018-12-23    10687\n",
              "Freq: W-SUN, Name: Sales, Length: 206, dtype: int64"
            ]
          },
          "execution_count": 98,
          "metadata": {},
          "output_type": "execute_result"
        }
      ],
      "source": [
        "soft_drinks_df.groupby([pd.Grouper(key='Order Date', freq='W')])['Sales'].sum()"
      ]
    },
    {
      "cell_type": "code",
      "execution_count": null,
      "id": "b39554b1",
      "metadata": {
        "id": "b39554b1",
        "outputId": "ad6bcb4d-1a8f-4ed6-bfee-d502c1eebe6d"
      },
      "outputs": [
        {
          "data": {
            "text/html": [
              "<div>\n",
              "<style scoped>\n",
              "    .dataframe tbody tr th:only-of-type {\n",
              "        vertical-align: middle;\n",
              "    }\n",
              "\n",
              "    .dataframe tbody tr th {\n",
              "        vertical-align: top;\n",
              "    }\n",
              "\n",
              "    .dataframe thead th {\n",
              "        text-align: right;\n",
              "    }\n",
              "</style>\n",
              "<table border=\"1\" class=\"dataframe\">\n",
              "  <thead>\n",
              "    <tr style=\"text-align: right;\">\n",
              "      <th></th>\n",
              "      <th>City</th>\n",
              "      <th>Order Date</th>\n",
              "      <th>Sales</th>\n",
              "      <th>Discount</th>\n",
              "      <th>Profit</th>\n",
              "      <th>index_col</th>\n",
              "    </tr>\n",
              "  </thead>\n",
              "  <tbody>\n",
              "    <tr>\n",
              "      <th>5438</th>\n",
              "      <td>Namakkal</td>\n",
              "      <td>2015-01-13</td>\n",
              "      <td>1393</td>\n",
              "      <td>0.30</td>\n",
              "      <td>431.83</td>\n",
              "      <td>0</td>\n",
              "    </tr>\n",
              "    <tr>\n",
              "      <th>1717</th>\n",
              "      <td>Theni</td>\n",
              "      <td>2015-01-13</td>\n",
              "      <td>603</td>\n",
              "      <td>0.28</td>\n",
              "      <td>168.84</td>\n",
              "      <td>1</td>\n",
              "    </tr>\n",
              "    <tr>\n",
              "      <th>3231</th>\n",
              "      <td>Ooty</td>\n",
              "      <td>2015-01-13</td>\n",
              "      <td>1785</td>\n",
              "      <td>0.29</td>\n",
              "      <td>624.75</td>\n",
              "      <td>2</td>\n",
              "    </tr>\n",
              "    <tr>\n",
              "      <th>4110</th>\n",
              "      <td>Ooty</td>\n",
              "      <td>2015-01-13</td>\n",
              "      <td>1768</td>\n",
              "      <td>0.13</td>\n",
              "      <td>353.60</td>\n",
              "      <td>3</td>\n",
              "    </tr>\n",
              "    <tr>\n",
              "      <th>6237</th>\n",
              "      <td>Madurai</td>\n",
              "      <td>2015-01-19</td>\n",
              "      <td>666</td>\n",
              "      <td>0.29</td>\n",
              "      <td>133.20</td>\n",
              "      <td>4</td>\n",
              "    </tr>\n",
              "    <tr>\n",
              "      <th>...</th>\n",
              "      <td>...</td>\n",
              "      <td>...</td>\n",
              "      <td>...</td>\n",
              "      <td>...</td>\n",
              "      <td>...</td>\n",
              "      <td>...</td>\n",
              "    </tr>\n",
              "    <tr>\n",
              "      <th>3438</th>\n",
              "      <td>Tirunelveli</td>\n",
              "      <td>2018-12-18</td>\n",
              "      <td>548</td>\n",
              "      <td>0.30</td>\n",
              "      <td>65.76</td>\n",
              "      <td>676</td>\n",
              "    </tr>\n",
              "    <tr>\n",
              "      <th>7767</th>\n",
              "      <td>Ramanadhapuram</td>\n",
              "      <td>2018-12-18</td>\n",
              "      <td>702</td>\n",
              "      <td>0.30</td>\n",
              "      <td>49.14</td>\n",
              "      <td>677</td>\n",
              "    </tr>\n",
              "    <tr>\n",
              "      <th>7963</th>\n",
              "      <td>Namakkal</td>\n",
              "      <td>2018-12-20</td>\n",
              "      <td>2233</td>\n",
              "      <td>0.19</td>\n",
              "      <td>870.87</td>\n",
              "      <td>678</td>\n",
              "    </tr>\n",
              "    <tr>\n",
              "      <th>2859</th>\n",
              "      <td>Chennai</td>\n",
              "      <td>2018-12-22</td>\n",
              "      <td>988</td>\n",
              "      <td>0.32</td>\n",
              "      <td>355.68</td>\n",
              "      <td>679</td>\n",
              "    </tr>\n",
              "    <tr>\n",
              "      <th>4696</th>\n",
              "      <td>Ramanadhapuram</td>\n",
              "      <td>2018-12-23</td>\n",
              "      <td>1690</td>\n",
              "      <td>0.19</td>\n",
              "      <td>135.20</td>\n",
              "      <td>680</td>\n",
              "    </tr>\n",
              "  </tbody>\n",
              "</table>\n",
              "<p>681 rows × 6 columns</p>\n",
              "</div>"
            ],
            "text/plain": [
              "                City Order Date  Sales  Discount  Profit  index_col\n",
              "5438        Namakkal 2015-01-13   1393      0.30  431.83          0\n",
              "1717           Theni 2015-01-13    603      0.28  168.84          1\n",
              "3231            Ooty 2015-01-13   1785      0.29  624.75          2\n",
              "4110            Ooty 2015-01-13   1768      0.13  353.60          3\n",
              "6237         Madurai 2015-01-19    666      0.29  133.20          4\n",
              "...              ...        ...    ...       ...     ...        ...\n",
              "3438     Tirunelveli 2018-12-18    548      0.30   65.76        676\n",
              "7767  Ramanadhapuram 2018-12-18    702      0.30   49.14        677\n",
              "7963        Namakkal 2018-12-20   2233      0.19  870.87        678\n",
              "2859         Chennai 2018-12-22    988      0.32  355.68        679\n",
              "4696  Ramanadhapuram 2018-12-23   1690      0.19  135.20        680\n",
              "\n",
              "[681 rows x 6 columns]"
            ]
          },
          "execution_count": 99,
          "metadata": {},
          "output_type": "execute_result"
        }
      ],
      "source": [
        "soft_drinks_df"
      ]
    },
    {
      "cell_type": "code",
      "execution_count": null,
      "id": "729770be",
      "metadata": {
        "id": "729770be",
        "outputId": "98ca5048-c35e-4543-e033-40e48ac89610"
      },
      "outputs": [
        {
          "data": {
            "text/plain": [
              "City          0\n",
              "Order Date    0\n",
              "Sales         0\n",
              "Discount      0\n",
              "Profit        0\n",
              "index_col     0\n",
              "dtype: int64"
            ]
          },
          "execution_count": 100,
          "metadata": {},
          "output_type": "execute_result"
        }
      ],
      "source": [
        "soft_drinks_df.isnull().sum()"
      ]
    },
    {
      "cell_type": "code",
      "execution_count": null,
      "id": "1e0a8fcd",
      "metadata": {
        "id": "1e0a8fcd",
        "outputId": "7e30d59f-e84f-4e58-b0b7-d3a4131febab"
      },
      "outputs": [
        {
          "data": {
            "text/plain": [
              "5438     3\n",
              "1717     3\n",
              "3231     3\n",
              "4110     3\n",
              "6237     4\n",
              "        ..\n",
              "3438    51\n",
              "7767    51\n",
              "7963    51\n",
              "2859    51\n",
              "4696    51\n",
              "Name: week, Length: 681, dtype: UInt32"
            ]
          },
          "execution_count": 101,
          "metadata": {},
          "output_type": "execute_result"
        }
      ],
      "source": [
        "soft_drinks_df['Order Date'].dt.isocalendar().week"
      ]
    },
    {
      "cell_type": "code",
      "execution_count": null,
      "id": "56dd3f45",
      "metadata": {
        "id": "56dd3f45"
      },
      "outputs": [],
      "source": [
        "soft_drinks_df['Week'] = soft_drinks_df['Order Date'].dt.isocalendar().week"
      ]
    },
    {
      "cell_type": "code",
      "execution_count": null,
      "id": "f605cc67",
      "metadata": {
        "id": "f605cc67",
        "outputId": "0e099229-cff1-4f60-e51a-8793f2839ab6"
      },
      "outputs": [
        {
          "data": {
            "text/html": [
              "<div>\n",
              "<style scoped>\n",
              "    .dataframe tbody tr th:only-of-type {\n",
              "        vertical-align: middle;\n",
              "    }\n",
              "\n",
              "    .dataframe tbody tr th {\n",
              "        vertical-align: top;\n",
              "    }\n",
              "\n",
              "    .dataframe thead th {\n",
              "        text-align: right;\n",
              "    }\n",
              "</style>\n",
              "<table border=\"1\" class=\"dataframe\">\n",
              "  <thead>\n",
              "    <tr style=\"text-align: right;\">\n",
              "      <th></th>\n",
              "      <th>City</th>\n",
              "      <th>Order Date</th>\n",
              "      <th>Sales</th>\n",
              "      <th>Discount</th>\n",
              "      <th>Profit</th>\n",
              "      <th>index_col</th>\n",
              "      <th>Week</th>\n",
              "    </tr>\n",
              "  </thead>\n",
              "  <tbody>\n",
              "    <tr>\n",
              "      <th>5438</th>\n",
              "      <td>Namakkal</td>\n",
              "      <td>2015-01-13</td>\n",
              "      <td>1393</td>\n",
              "      <td>0.30</td>\n",
              "      <td>431.83</td>\n",
              "      <td>0</td>\n",
              "      <td>3</td>\n",
              "    </tr>\n",
              "    <tr>\n",
              "      <th>1717</th>\n",
              "      <td>Theni</td>\n",
              "      <td>2015-01-13</td>\n",
              "      <td>603</td>\n",
              "      <td>0.28</td>\n",
              "      <td>168.84</td>\n",
              "      <td>1</td>\n",
              "      <td>3</td>\n",
              "    </tr>\n",
              "    <tr>\n",
              "      <th>3231</th>\n",
              "      <td>Ooty</td>\n",
              "      <td>2015-01-13</td>\n",
              "      <td>1785</td>\n",
              "      <td>0.29</td>\n",
              "      <td>624.75</td>\n",
              "      <td>2</td>\n",
              "      <td>3</td>\n",
              "    </tr>\n",
              "    <tr>\n",
              "      <th>4110</th>\n",
              "      <td>Ooty</td>\n",
              "      <td>2015-01-13</td>\n",
              "      <td>1768</td>\n",
              "      <td>0.13</td>\n",
              "      <td>353.60</td>\n",
              "      <td>3</td>\n",
              "      <td>3</td>\n",
              "    </tr>\n",
              "    <tr>\n",
              "      <th>6237</th>\n",
              "      <td>Madurai</td>\n",
              "      <td>2015-01-19</td>\n",
              "      <td>666</td>\n",
              "      <td>0.29</td>\n",
              "      <td>133.20</td>\n",
              "      <td>4</td>\n",
              "      <td>4</td>\n",
              "    </tr>\n",
              "    <tr>\n",
              "      <th>...</th>\n",
              "      <td>...</td>\n",
              "      <td>...</td>\n",
              "      <td>...</td>\n",
              "      <td>...</td>\n",
              "      <td>...</td>\n",
              "      <td>...</td>\n",
              "      <td>...</td>\n",
              "    </tr>\n",
              "    <tr>\n",
              "      <th>3438</th>\n",
              "      <td>Tirunelveli</td>\n",
              "      <td>2018-12-18</td>\n",
              "      <td>548</td>\n",
              "      <td>0.30</td>\n",
              "      <td>65.76</td>\n",
              "      <td>676</td>\n",
              "      <td>51</td>\n",
              "    </tr>\n",
              "    <tr>\n",
              "      <th>7767</th>\n",
              "      <td>Ramanadhapuram</td>\n",
              "      <td>2018-12-18</td>\n",
              "      <td>702</td>\n",
              "      <td>0.30</td>\n",
              "      <td>49.14</td>\n",
              "      <td>677</td>\n",
              "      <td>51</td>\n",
              "    </tr>\n",
              "    <tr>\n",
              "      <th>7963</th>\n",
              "      <td>Namakkal</td>\n",
              "      <td>2018-12-20</td>\n",
              "      <td>2233</td>\n",
              "      <td>0.19</td>\n",
              "      <td>870.87</td>\n",
              "      <td>678</td>\n",
              "      <td>51</td>\n",
              "    </tr>\n",
              "    <tr>\n",
              "      <th>2859</th>\n",
              "      <td>Chennai</td>\n",
              "      <td>2018-12-22</td>\n",
              "      <td>988</td>\n",
              "      <td>0.32</td>\n",
              "      <td>355.68</td>\n",
              "      <td>679</td>\n",
              "      <td>51</td>\n",
              "    </tr>\n",
              "    <tr>\n",
              "      <th>4696</th>\n",
              "      <td>Ramanadhapuram</td>\n",
              "      <td>2018-12-23</td>\n",
              "      <td>1690</td>\n",
              "      <td>0.19</td>\n",
              "      <td>135.20</td>\n",
              "      <td>680</td>\n",
              "      <td>51</td>\n",
              "    </tr>\n",
              "  </tbody>\n",
              "</table>\n",
              "<p>681 rows × 7 columns</p>\n",
              "</div>"
            ],
            "text/plain": [
              "                City Order Date  Sales  Discount  Profit  index_col  Week\n",
              "5438        Namakkal 2015-01-13   1393      0.30  431.83          0     3\n",
              "1717           Theni 2015-01-13    603      0.28  168.84          1     3\n",
              "3231            Ooty 2015-01-13   1785      0.29  624.75          2     3\n",
              "4110            Ooty 2015-01-13   1768      0.13  353.60          3     3\n",
              "6237         Madurai 2015-01-19    666      0.29  133.20          4     4\n",
              "...              ...        ...    ...       ...     ...        ...   ...\n",
              "3438     Tirunelveli 2018-12-18    548      0.30   65.76        676    51\n",
              "7767  Ramanadhapuram 2018-12-18    702      0.30   49.14        677    51\n",
              "7963        Namakkal 2018-12-20   2233      0.19  870.87        678    51\n",
              "2859         Chennai 2018-12-22    988      0.32  355.68        679    51\n",
              "4696  Ramanadhapuram 2018-12-23   1690      0.19  135.20        680    51\n",
              "\n",
              "[681 rows x 7 columns]"
            ]
          },
          "execution_count": 103,
          "metadata": {},
          "output_type": "execute_result"
        }
      ],
      "source": [
        "soft_drinks_df"
      ]
    },
    {
      "cell_type": "code",
      "execution_count": null,
      "id": "3c8b4333",
      "metadata": {
        "id": "3c8b4333"
      },
      "outputs": [],
      "source": [
        "soft_drinks_df = soft_drinks_df.groupby('Week')[['Sales','Discount','Profit']].sum()"
      ]
    },
    {
      "cell_type": "code",
      "execution_count": null,
      "id": "d95ff8d4",
      "metadata": {
        "id": "d95ff8d4",
        "outputId": "40bb5612-9dbd-4a64-e1b3-c54f9a7b7a92"
      },
      "outputs": [
        {
          "data": {
            "text/html": [
              "<div>\n",
              "<style scoped>\n",
              "    .dataframe tbody tr th:only-of-type {\n",
              "        vertical-align: middle;\n",
              "    }\n",
              "\n",
              "    .dataframe tbody tr th {\n",
              "        vertical-align: top;\n",
              "    }\n",
              "\n",
              "    .dataframe thead th {\n",
              "        text-align: right;\n",
              "    }\n",
              "</style>\n",
              "<table border=\"1\" class=\"dataframe\">\n",
              "  <thead>\n",
              "    <tr style=\"text-align: right;\">\n",
              "      <th></th>\n",
              "      <th>Sales</th>\n",
              "      <th>Discount</th>\n",
              "      <th>Profit</th>\n",
              "    </tr>\n",
              "    <tr>\n",
              "      <th>Week</th>\n",
              "      <th></th>\n",
              "      <th></th>\n",
              "      <th></th>\n",
              "    </tr>\n",
              "  </thead>\n",
              "  <tbody>\n",
              "    <tr>\n",
              "      <th>1</th>\n",
              "      <td>7100</td>\n",
              "      <td>0.96</td>\n",
              "      <td>1628.66</td>\n",
              "    </tr>\n",
              "    <tr>\n",
              "      <th>2</th>\n",
              "      <td>7552</td>\n",
              "      <td>0.98</td>\n",
              "      <td>1602.53</td>\n",
              "    </tr>\n",
              "    <tr>\n",
              "      <th>3</th>\n",
              "      <td>15858</td>\n",
              "      <td>2.22</td>\n",
              "      <td>4138.33</td>\n",
              "    </tr>\n",
              "    <tr>\n",
              "      <th>4</th>\n",
              "      <td>17195</td>\n",
              "      <td>2.83</td>\n",
              "      <td>3468.02</td>\n",
              "    </tr>\n",
              "    <tr>\n",
              "      <th>5</th>\n",
              "      <td>5648</td>\n",
              "      <td>0.91</td>\n",
              "      <td>1268.50</td>\n",
              "    </tr>\n",
              "    <tr>\n",
              "      <th>6</th>\n",
              "      <td>10411</td>\n",
              "      <td>1.60</td>\n",
              "      <td>2910.34</td>\n",
              "    </tr>\n",
              "    <tr>\n",
              "      <th>7</th>\n",
              "      <td>6543</td>\n",
              "      <td>0.98</td>\n",
              "      <td>2108.13</td>\n",
              "    </tr>\n",
              "    <tr>\n",
              "      <th>8</th>\n",
              "      <td>14085</td>\n",
              "      <td>1.68</td>\n",
              "      <td>3567.16</td>\n",
              "    </tr>\n",
              "    <tr>\n",
              "      <th>9</th>\n",
              "      <td>17849</td>\n",
              "      <td>2.57</td>\n",
              "      <td>4967.65</td>\n",
              "    </tr>\n",
              "    <tr>\n",
              "      <th>10</th>\n",
              "      <td>15804</td>\n",
              "      <td>2.44</td>\n",
              "      <td>4784.88</td>\n",
              "    </tr>\n",
              "    <tr>\n",
              "      <th>11</th>\n",
              "      <td>14600</td>\n",
              "      <td>2.34</td>\n",
              "      <td>2487.66</td>\n",
              "    </tr>\n",
              "    <tr>\n",
              "      <th>12</th>\n",
              "      <td>10926</td>\n",
              "      <td>1.57</td>\n",
              "      <td>2890.93</td>\n",
              "    </tr>\n",
              "    <tr>\n",
              "      <th>13</th>\n",
              "      <td>10009</td>\n",
              "      <td>1.36</td>\n",
              "      <td>2312.56</td>\n",
              "    </tr>\n",
              "    <tr>\n",
              "      <th>14</th>\n",
              "      <td>20347</td>\n",
              "      <td>2.70</td>\n",
              "      <td>4939.87</td>\n",
              "    </tr>\n",
              "    <tr>\n",
              "      <th>15</th>\n",
              "      <td>21109</td>\n",
              "      <td>3.90</td>\n",
              "      <td>5694.82</td>\n",
              "    </tr>\n",
              "    <tr>\n",
              "      <th>16</th>\n",
              "      <td>16449</td>\n",
              "      <td>2.12</td>\n",
              "      <td>3755.20</td>\n",
              "    </tr>\n",
              "    <tr>\n",
              "      <th>17</th>\n",
              "      <td>27084</td>\n",
              "      <td>3.86</td>\n",
              "      <td>6752.41</td>\n",
              "    </tr>\n",
              "    <tr>\n",
              "      <th>18</th>\n",
              "      <td>7820</td>\n",
              "      <td>1.84</td>\n",
              "      <td>2215.87</td>\n",
              "    </tr>\n",
              "    <tr>\n",
              "      <th>19</th>\n",
              "      <td>18824</td>\n",
              "      <td>2.05</td>\n",
              "      <td>5204.80</td>\n",
              "    </tr>\n",
              "    <tr>\n",
              "      <th>20</th>\n",
              "      <td>16216</td>\n",
              "      <td>3.04</td>\n",
              "      <td>3410.64</td>\n",
              "    </tr>\n",
              "    <tr>\n",
              "      <th>21</th>\n",
              "      <td>17952</td>\n",
              "      <td>2.97</td>\n",
              "      <td>3586.94</td>\n",
              "    </tr>\n",
              "    <tr>\n",
              "      <th>22</th>\n",
              "      <td>15564</td>\n",
              "      <td>2.69</td>\n",
              "      <td>4011.56</td>\n",
              "    </tr>\n",
              "    <tr>\n",
              "      <th>23</th>\n",
              "      <td>12089</td>\n",
              "      <td>1.74</td>\n",
              "      <td>2349.91</td>\n",
              "    </tr>\n",
              "    <tr>\n",
              "      <th>24</th>\n",
              "      <td>10235</td>\n",
              "      <td>1.39</td>\n",
              "      <td>3661.02</td>\n",
              "    </tr>\n",
              "    <tr>\n",
              "      <th>25</th>\n",
              "      <td>12023</td>\n",
              "      <td>2.56</td>\n",
              "      <td>3696.95</td>\n",
              "    </tr>\n",
              "    <tr>\n",
              "      <th>26</th>\n",
              "      <td>11197</td>\n",
              "      <td>2.28</td>\n",
              "      <td>2655.92</td>\n",
              "    </tr>\n",
              "    <tr>\n",
              "      <th>27</th>\n",
              "      <td>14826</td>\n",
              "      <td>1.96</td>\n",
              "      <td>3479.69</td>\n",
              "    </tr>\n",
              "    <tr>\n",
              "      <th>28</th>\n",
              "      <td>19056</td>\n",
              "      <td>2.39</td>\n",
              "      <td>4634.01</td>\n",
              "    </tr>\n",
              "    <tr>\n",
              "      <th>29</th>\n",
              "      <td>15719</td>\n",
              "      <td>2.24</td>\n",
              "      <td>5295.38</td>\n",
              "    </tr>\n",
              "    <tr>\n",
              "      <th>30</th>\n",
              "      <td>8303</td>\n",
              "      <td>1.77</td>\n",
              "      <td>1697.65</td>\n",
              "    </tr>\n",
              "    <tr>\n",
              "      <th>31</th>\n",
              "      <td>20278</td>\n",
              "      <td>3.75</td>\n",
              "      <td>4638.69</td>\n",
              "    </tr>\n",
              "    <tr>\n",
              "      <th>32</th>\n",
              "      <td>8657</td>\n",
              "      <td>0.83</td>\n",
              "      <td>2015.39</td>\n",
              "    </tr>\n",
              "    <tr>\n",
              "      <th>33</th>\n",
              "      <td>26398</td>\n",
              "      <td>3.36</td>\n",
              "      <td>6964.44</td>\n",
              "    </tr>\n",
              "    <tr>\n",
              "      <th>34</th>\n",
              "      <td>18542</td>\n",
              "      <td>3.55</td>\n",
              "      <td>4687.58</td>\n",
              "    </tr>\n",
              "    <tr>\n",
              "      <th>35</th>\n",
              "      <td>33281</td>\n",
              "      <td>4.36</td>\n",
              "      <td>9537.60</td>\n",
              "    </tr>\n",
              "    <tr>\n",
              "      <th>36</th>\n",
              "      <td>41398</td>\n",
              "      <td>5.96</td>\n",
              "      <td>10196.77</td>\n",
              "    </tr>\n",
              "    <tr>\n",
              "      <th>37</th>\n",
              "      <td>35906</td>\n",
              "      <td>5.34</td>\n",
              "      <td>10608.58</td>\n",
              "    </tr>\n",
              "    <tr>\n",
              "      <th>38</th>\n",
              "      <td>30922</td>\n",
              "      <td>4.51</td>\n",
              "      <td>6398.47</td>\n",
              "    </tr>\n",
              "    <tr>\n",
              "      <th>39</th>\n",
              "      <td>21929</td>\n",
              "      <td>3.83</td>\n",
              "      <td>5389.14</td>\n",
              "    </tr>\n",
              "    <tr>\n",
              "      <th>40</th>\n",
              "      <td>11714</td>\n",
              "      <td>1.82</td>\n",
              "      <td>2700.35</td>\n",
              "    </tr>\n",
              "    <tr>\n",
              "      <th>41</th>\n",
              "      <td>26982</td>\n",
              "      <td>3.26</td>\n",
              "      <td>6126.73</td>\n",
              "    </tr>\n",
              "    <tr>\n",
              "      <th>42</th>\n",
              "      <td>11213</td>\n",
              "      <td>1.32</td>\n",
              "      <td>2272.34</td>\n",
              "    </tr>\n",
              "    <tr>\n",
              "      <th>43</th>\n",
              "      <td>32827</td>\n",
              "      <td>4.36</td>\n",
              "      <td>7624.60</td>\n",
              "    </tr>\n",
              "    <tr>\n",
              "      <th>44</th>\n",
              "      <td>30711</td>\n",
              "      <td>4.93</td>\n",
              "      <td>6542.59</td>\n",
              "    </tr>\n",
              "    <tr>\n",
              "      <th>45</th>\n",
              "      <td>41503</td>\n",
              "      <td>6.63</td>\n",
              "      <td>8525.29</td>\n",
              "    </tr>\n",
              "    <tr>\n",
              "      <th>46</th>\n",
              "      <td>42646</td>\n",
              "      <td>6.50</td>\n",
              "      <td>12287.82</td>\n",
              "    </tr>\n",
              "    <tr>\n",
              "      <th>47</th>\n",
              "      <td>47800</td>\n",
              "      <td>6.77</td>\n",
              "      <td>13684.67</td>\n",
              "    </tr>\n",
              "    <tr>\n",
              "      <th>48</th>\n",
              "      <td>39620</td>\n",
              "      <td>5.94</td>\n",
              "      <td>9276.16</td>\n",
              "    </tr>\n",
              "    <tr>\n",
              "      <th>49</th>\n",
              "      <td>15226</td>\n",
              "      <td>2.55</td>\n",
              "      <td>3461.43</td>\n",
              "    </tr>\n",
              "    <tr>\n",
              "      <th>50</th>\n",
              "      <td>33832</td>\n",
              "      <td>5.61</td>\n",
              "      <td>8768.13</td>\n",
              "    </tr>\n",
              "    <tr>\n",
              "      <th>51</th>\n",
              "      <td>23211</td>\n",
              "      <td>3.77</td>\n",
              "      <td>6038.96</td>\n",
              "    </tr>\n",
              "    <tr>\n",
              "      <th>52</th>\n",
              "      <td>19436</td>\n",
              "      <td>2.80</td>\n",
              "      <td>4878.98</td>\n",
              "    </tr>\n",
              "    <tr>\n",
              "      <th>53</th>\n",
              "      <td>1449</td>\n",
              "      <td>0.28</td>\n",
              "      <td>333.27</td>\n",
              "    </tr>\n",
              "  </tbody>\n",
              "</table>\n",
              "</div>"
            ],
            "text/plain": [
              "      Sales  Discount    Profit\n",
              "Week                           \n",
              "1      7100      0.96   1628.66\n",
              "2      7552      0.98   1602.53\n",
              "3     15858      2.22   4138.33\n",
              "4     17195      2.83   3468.02\n",
              "5      5648      0.91   1268.50\n",
              "6     10411      1.60   2910.34\n",
              "7      6543      0.98   2108.13\n",
              "8     14085      1.68   3567.16\n",
              "9     17849      2.57   4967.65\n",
              "10    15804      2.44   4784.88\n",
              "11    14600      2.34   2487.66\n",
              "12    10926      1.57   2890.93\n",
              "13    10009      1.36   2312.56\n",
              "14    20347      2.70   4939.87\n",
              "15    21109      3.90   5694.82\n",
              "16    16449      2.12   3755.20\n",
              "17    27084      3.86   6752.41\n",
              "18     7820      1.84   2215.87\n",
              "19    18824      2.05   5204.80\n",
              "20    16216      3.04   3410.64\n",
              "21    17952      2.97   3586.94\n",
              "22    15564      2.69   4011.56\n",
              "23    12089      1.74   2349.91\n",
              "24    10235      1.39   3661.02\n",
              "25    12023      2.56   3696.95\n",
              "26    11197      2.28   2655.92\n",
              "27    14826      1.96   3479.69\n",
              "28    19056      2.39   4634.01\n",
              "29    15719      2.24   5295.38\n",
              "30     8303      1.77   1697.65\n",
              "31    20278      3.75   4638.69\n",
              "32     8657      0.83   2015.39\n",
              "33    26398      3.36   6964.44\n",
              "34    18542      3.55   4687.58\n",
              "35    33281      4.36   9537.60\n",
              "36    41398      5.96  10196.77\n",
              "37    35906      5.34  10608.58\n",
              "38    30922      4.51   6398.47\n",
              "39    21929      3.83   5389.14\n",
              "40    11714      1.82   2700.35\n",
              "41    26982      3.26   6126.73\n",
              "42    11213      1.32   2272.34\n",
              "43    32827      4.36   7624.60\n",
              "44    30711      4.93   6542.59\n",
              "45    41503      6.63   8525.29\n",
              "46    42646      6.50  12287.82\n",
              "47    47800      6.77  13684.67\n",
              "48    39620      5.94   9276.16\n",
              "49    15226      2.55   3461.43\n",
              "50    33832      5.61   8768.13\n",
              "51    23211      3.77   6038.96\n",
              "52    19436      2.80   4878.98\n",
              "53     1449      0.28    333.27"
            ]
          },
          "execution_count": 105,
          "metadata": {},
          "output_type": "execute_result"
        }
      ],
      "source": [
        "soft_drinks_df"
      ]
    },
    {
      "cell_type": "code",
      "execution_count": null,
      "id": "8edbc7c5",
      "metadata": {
        "id": "8edbc7c5",
        "outputId": "f7905f5f-dafd-435c-87db-981301c18d48"
      },
      "outputs": [
        {
          "data": {
            "text/html": [
              "<div>\n",
              "<style scoped>\n",
              "    .dataframe tbody tr th:only-of-type {\n",
              "        vertical-align: middle;\n",
              "    }\n",
              "\n",
              "    .dataframe tbody tr th {\n",
              "        vertical-align: top;\n",
              "    }\n",
              "\n",
              "    .dataframe thead th {\n",
              "        text-align: right;\n",
              "    }\n",
              "</style>\n",
              "<table border=\"1\" class=\"dataframe\">\n",
              "  <thead>\n",
              "    <tr style=\"text-align: right;\">\n",
              "      <th></th>\n",
              "      <th>Sales</th>\n",
              "      <th>Discount</th>\n",
              "      <th>Profit</th>\n",
              "      <th>idx</th>\n",
              "    </tr>\n",
              "    <tr>\n",
              "      <th>Week</th>\n",
              "      <th></th>\n",
              "      <th></th>\n",
              "      <th></th>\n",
              "      <th></th>\n",
              "    </tr>\n",
              "  </thead>\n",
              "  <tbody>\n",
              "    <tr>\n",
              "      <th>1</th>\n",
              "      <td>7100</td>\n",
              "      <td>0.96</td>\n",
              "      <td>1628.66</td>\n",
              "      <td>1</td>\n",
              "    </tr>\n",
              "    <tr>\n",
              "      <th>2</th>\n",
              "      <td>7552</td>\n",
              "      <td>0.98</td>\n",
              "      <td>1602.53</td>\n",
              "      <td>2</td>\n",
              "    </tr>\n",
              "    <tr>\n",
              "      <th>3</th>\n",
              "      <td>15858</td>\n",
              "      <td>2.22</td>\n",
              "      <td>4138.33</td>\n",
              "      <td>3</td>\n",
              "    </tr>\n",
              "    <tr>\n",
              "      <th>4</th>\n",
              "      <td>17195</td>\n",
              "      <td>2.83</td>\n",
              "      <td>3468.02</td>\n",
              "      <td>4</td>\n",
              "    </tr>\n",
              "    <tr>\n",
              "      <th>5</th>\n",
              "      <td>5648</td>\n",
              "      <td>0.91</td>\n",
              "      <td>1268.50</td>\n",
              "      <td>5</td>\n",
              "    </tr>\n",
              "    <tr>\n",
              "      <th>6</th>\n",
              "      <td>10411</td>\n",
              "      <td>1.60</td>\n",
              "      <td>2910.34</td>\n",
              "      <td>6</td>\n",
              "    </tr>\n",
              "    <tr>\n",
              "      <th>7</th>\n",
              "      <td>6543</td>\n",
              "      <td>0.98</td>\n",
              "      <td>2108.13</td>\n",
              "      <td>7</td>\n",
              "    </tr>\n",
              "    <tr>\n",
              "      <th>8</th>\n",
              "      <td>14085</td>\n",
              "      <td>1.68</td>\n",
              "      <td>3567.16</td>\n",
              "      <td>8</td>\n",
              "    </tr>\n",
              "    <tr>\n",
              "      <th>9</th>\n",
              "      <td>17849</td>\n",
              "      <td>2.57</td>\n",
              "      <td>4967.65</td>\n",
              "      <td>9</td>\n",
              "    </tr>\n",
              "    <tr>\n",
              "      <th>10</th>\n",
              "      <td>15804</td>\n",
              "      <td>2.44</td>\n",
              "      <td>4784.88</td>\n",
              "      <td>10</td>\n",
              "    </tr>\n",
              "    <tr>\n",
              "      <th>11</th>\n",
              "      <td>14600</td>\n",
              "      <td>2.34</td>\n",
              "      <td>2487.66</td>\n",
              "      <td>11</td>\n",
              "    </tr>\n",
              "    <tr>\n",
              "      <th>12</th>\n",
              "      <td>10926</td>\n",
              "      <td>1.57</td>\n",
              "      <td>2890.93</td>\n",
              "      <td>12</td>\n",
              "    </tr>\n",
              "    <tr>\n",
              "      <th>13</th>\n",
              "      <td>10009</td>\n",
              "      <td>1.36</td>\n",
              "      <td>2312.56</td>\n",
              "      <td>13</td>\n",
              "    </tr>\n",
              "    <tr>\n",
              "      <th>14</th>\n",
              "      <td>20347</td>\n",
              "      <td>2.70</td>\n",
              "      <td>4939.87</td>\n",
              "      <td>14</td>\n",
              "    </tr>\n",
              "    <tr>\n",
              "      <th>15</th>\n",
              "      <td>21109</td>\n",
              "      <td>3.90</td>\n",
              "      <td>5694.82</td>\n",
              "      <td>15</td>\n",
              "    </tr>\n",
              "    <tr>\n",
              "      <th>16</th>\n",
              "      <td>16449</td>\n",
              "      <td>2.12</td>\n",
              "      <td>3755.20</td>\n",
              "      <td>16</td>\n",
              "    </tr>\n",
              "    <tr>\n",
              "      <th>17</th>\n",
              "      <td>27084</td>\n",
              "      <td>3.86</td>\n",
              "      <td>6752.41</td>\n",
              "      <td>17</td>\n",
              "    </tr>\n",
              "    <tr>\n",
              "      <th>18</th>\n",
              "      <td>7820</td>\n",
              "      <td>1.84</td>\n",
              "      <td>2215.87</td>\n",
              "      <td>18</td>\n",
              "    </tr>\n",
              "    <tr>\n",
              "      <th>19</th>\n",
              "      <td>18824</td>\n",
              "      <td>2.05</td>\n",
              "      <td>5204.80</td>\n",
              "      <td>19</td>\n",
              "    </tr>\n",
              "    <tr>\n",
              "      <th>20</th>\n",
              "      <td>16216</td>\n",
              "      <td>3.04</td>\n",
              "      <td>3410.64</td>\n",
              "      <td>20</td>\n",
              "    </tr>\n",
              "    <tr>\n",
              "      <th>21</th>\n",
              "      <td>17952</td>\n",
              "      <td>2.97</td>\n",
              "      <td>3586.94</td>\n",
              "      <td>21</td>\n",
              "    </tr>\n",
              "    <tr>\n",
              "      <th>22</th>\n",
              "      <td>15564</td>\n",
              "      <td>2.69</td>\n",
              "      <td>4011.56</td>\n",
              "      <td>22</td>\n",
              "    </tr>\n",
              "    <tr>\n",
              "      <th>23</th>\n",
              "      <td>12089</td>\n",
              "      <td>1.74</td>\n",
              "      <td>2349.91</td>\n",
              "      <td>23</td>\n",
              "    </tr>\n",
              "    <tr>\n",
              "      <th>24</th>\n",
              "      <td>10235</td>\n",
              "      <td>1.39</td>\n",
              "      <td>3661.02</td>\n",
              "      <td>24</td>\n",
              "    </tr>\n",
              "    <tr>\n",
              "      <th>25</th>\n",
              "      <td>12023</td>\n",
              "      <td>2.56</td>\n",
              "      <td>3696.95</td>\n",
              "      <td>25</td>\n",
              "    </tr>\n",
              "    <tr>\n",
              "      <th>26</th>\n",
              "      <td>11197</td>\n",
              "      <td>2.28</td>\n",
              "      <td>2655.92</td>\n",
              "      <td>26</td>\n",
              "    </tr>\n",
              "    <tr>\n",
              "      <th>27</th>\n",
              "      <td>14826</td>\n",
              "      <td>1.96</td>\n",
              "      <td>3479.69</td>\n",
              "      <td>27</td>\n",
              "    </tr>\n",
              "    <tr>\n",
              "      <th>28</th>\n",
              "      <td>19056</td>\n",
              "      <td>2.39</td>\n",
              "      <td>4634.01</td>\n",
              "      <td>28</td>\n",
              "    </tr>\n",
              "    <tr>\n",
              "      <th>29</th>\n",
              "      <td>15719</td>\n",
              "      <td>2.24</td>\n",
              "      <td>5295.38</td>\n",
              "      <td>29</td>\n",
              "    </tr>\n",
              "    <tr>\n",
              "      <th>30</th>\n",
              "      <td>8303</td>\n",
              "      <td>1.77</td>\n",
              "      <td>1697.65</td>\n",
              "      <td>30</td>\n",
              "    </tr>\n",
              "    <tr>\n",
              "      <th>31</th>\n",
              "      <td>20278</td>\n",
              "      <td>3.75</td>\n",
              "      <td>4638.69</td>\n",
              "      <td>31</td>\n",
              "    </tr>\n",
              "    <tr>\n",
              "      <th>32</th>\n",
              "      <td>8657</td>\n",
              "      <td>0.83</td>\n",
              "      <td>2015.39</td>\n",
              "      <td>32</td>\n",
              "    </tr>\n",
              "    <tr>\n",
              "      <th>33</th>\n",
              "      <td>26398</td>\n",
              "      <td>3.36</td>\n",
              "      <td>6964.44</td>\n",
              "      <td>33</td>\n",
              "    </tr>\n",
              "    <tr>\n",
              "      <th>34</th>\n",
              "      <td>18542</td>\n",
              "      <td>3.55</td>\n",
              "      <td>4687.58</td>\n",
              "      <td>34</td>\n",
              "    </tr>\n",
              "    <tr>\n",
              "      <th>35</th>\n",
              "      <td>33281</td>\n",
              "      <td>4.36</td>\n",
              "      <td>9537.60</td>\n",
              "      <td>35</td>\n",
              "    </tr>\n",
              "    <tr>\n",
              "      <th>36</th>\n",
              "      <td>41398</td>\n",
              "      <td>5.96</td>\n",
              "      <td>10196.77</td>\n",
              "      <td>36</td>\n",
              "    </tr>\n",
              "    <tr>\n",
              "      <th>37</th>\n",
              "      <td>35906</td>\n",
              "      <td>5.34</td>\n",
              "      <td>10608.58</td>\n",
              "      <td>37</td>\n",
              "    </tr>\n",
              "    <tr>\n",
              "      <th>38</th>\n",
              "      <td>30922</td>\n",
              "      <td>4.51</td>\n",
              "      <td>6398.47</td>\n",
              "      <td>38</td>\n",
              "    </tr>\n",
              "    <tr>\n",
              "      <th>39</th>\n",
              "      <td>21929</td>\n",
              "      <td>3.83</td>\n",
              "      <td>5389.14</td>\n",
              "      <td>39</td>\n",
              "    </tr>\n",
              "    <tr>\n",
              "      <th>40</th>\n",
              "      <td>11714</td>\n",
              "      <td>1.82</td>\n",
              "      <td>2700.35</td>\n",
              "      <td>40</td>\n",
              "    </tr>\n",
              "    <tr>\n",
              "      <th>41</th>\n",
              "      <td>26982</td>\n",
              "      <td>3.26</td>\n",
              "      <td>6126.73</td>\n",
              "      <td>41</td>\n",
              "    </tr>\n",
              "    <tr>\n",
              "      <th>42</th>\n",
              "      <td>11213</td>\n",
              "      <td>1.32</td>\n",
              "      <td>2272.34</td>\n",
              "      <td>42</td>\n",
              "    </tr>\n",
              "    <tr>\n",
              "      <th>43</th>\n",
              "      <td>32827</td>\n",
              "      <td>4.36</td>\n",
              "      <td>7624.60</td>\n",
              "      <td>43</td>\n",
              "    </tr>\n",
              "    <tr>\n",
              "      <th>44</th>\n",
              "      <td>30711</td>\n",
              "      <td>4.93</td>\n",
              "      <td>6542.59</td>\n",
              "      <td>44</td>\n",
              "    </tr>\n",
              "    <tr>\n",
              "      <th>45</th>\n",
              "      <td>41503</td>\n",
              "      <td>6.63</td>\n",
              "      <td>8525.29</td>\n",
              "      <td>45</td>\n",
              "    </tr>\n",
              "    <tr>\n",
              "      <th>46</th>\n",
              "      <td>42646</td>\n",
              "      <td>6.50</td>\n",
              "      <td>12287.82</td>\n",
              "      <td>46</td>\n",
              "    </tr>\n",
              "    <tr>\n",
              "      <th>47</th>\n",
              "      <td>47800</td>\n",
              "      <td>6.77</td>\n",
              "      <td>13684.67</td>\n",
              "      <td>47</td>\n",
              "    </tr>\n",
              "    <tr>\n",
              "      <th>48</th>\n",
              "      <td>39620</td>\n",
              "      <td>5.94</td>\n",
              "      <td>9276.16</td>\n",
              "      <td>48</td>\n",
              "    </tr>\n",
              "    <tr>\n",
              "      <th>49</th>\n",
              "      <td>15226</td>\n",
              "      <td>2.55</td>\n",
              "      <td>3461.43</td>\n",
              "      <td>49</td>\n",
              "    </tr>\n",
              "    <tr>\n",
              "      <th>50</th>\n",
              "      <td>33832</td>\n",
              "      <td>5.61</td>\n",
              "      <td>8768.13</td>\n",
              "      <td>50</td>\n",
              "    </tr>\n",
              "    <tr>\n",
              "      <th>51</th>\n",
              "      <td>23211</td>\n",
              "      <td>3.77</td>\n",
              "      <td>6038.96</td>\n",
              "      <td>51</td>\n",
              "    </tr>\n",
              "    <tr>\n",
              "      <th>52</th>\n",
              "      <td>19436</td>\n",
              "      <td>2.80</td>\n",
              "      <td>4878.98</td>\n",
              "      <td>52</td>\n",
              "    </tr>\n",
              "    <tr>\n",
              "      <th>53</th>\n",
              "      <td>1449</td>\n",
              "      <td>0.28</td>\n",
              "      <td>333.27</td>\n",
              "      <td>53</td>\n",
              "    </tr>\n",
              "  </tbody>\n",
              "</table>\n",
              "</div>"
            ],
            "text/plain": [
              "      Sales  Discount    Profit  idx\n",
              "Week                                \n",
              "1      7100      0.96   1628.66    1\n",
              "2      7552      0.98   1602.53    2\n",
              "3     15858      2.22   4138.33    3\n",
              "4     17195      2.83   3468.02    4\n",
              "5      5648      0.91   1268.50    5\n",
              "6     10411      1.60   2910.34    6\n",
              "7      6543      0.98   2108.13    7\n",
              "8     14085      1.68   3567.16    8\n",
              "9     17849      2.57   4967.65    9\n",
              "10    15804      2.44   4784.88   10\n",
              "11    14600      2.34   2487.66   11\n",
              "12    10926      1.57   2890.93   12\n",
              "13    10009      1.36   2312.56   13\n",
              "14    20347      2.70   4939.87   14\n",
              "15    21109      3.90   5694.82   15\n",
              "16    16449      2.12   3755.20   16\n",
              "17    27084      3.86   6752.41   17\n",
              "18     7820      1.84   2215.87   18\n",
              "19    18824      2.05   5204.80   19\n",
              "20    16216      3.04   3410.64   20\n",
              "21    17952      2.97   3586.94   21\n",
              "22    15564      2.69   4011.56   22\n",
              "23    12089      1.74   2349.91   23\n",
              "24    10235      1.39   3661.02   24\n",
              "25    12023      2.56   3696.95   25\n",
              "26    11197      2.28   2655.92   26\n",
              "27    14826      1.96   3479.69   27\n",
              "28    19056      2.39   4634.01   28\n",
              "29    15719      2.24   5295.38   29\n",
              "30     8303      1.77   1697.65   30\n",
              "31    20278      3.75   4638.69   31\n",
              "32     8657      0.83   2015.39   32\n",
              "33    26398      3.36   6964.44   33\n",
              "34    18542      3.55   4687.58   34\n",
              "35    33281      4.36   9537.60   35\n",
              "36    41398      5.96  10196.77   36\n",
              "37    35906      5.34  10608.58   37\n",
              "38    30922      4.51   6398.47   38\n",
              "39    21929      3.83   5389.14   39\n",
              "40    11714      1.82   2700.35   40\n",
              "41    26982      3.26   6126.73   41\n",
              "42    11213      1.32   2272.34   42\n",
              "43    32827      4.36   7624.60   43\n",
              "44    30711      4.93   6542.59   44\n",
              "45    41503      6.63   8525.29   45\n",
              "46    42646      6.50  12287.82   46\n",
              "47    47800      6.77  13684.67   47\n",
              "48    39620      5.94   9276.16   48\n",
              "49    15226      2.55   3461.43   49\n",
              "50    33832      5.61   8768.13   50\n",
              "51    23211      3.77   6038.96   51\n",
              "52    19436      2.80   4878.98   52\n",
              "53     1449      0.28    333.27   53"
            ]
          },
          "execution_count": 106,
          "metadata": {},
          "output_type": "execute_result"
        }
      ],
      "source": [
        "idx = np.arange(1,54).reshape(53,1)\n",
        "soft_drinks_df['idx'] = idx\n",
        "soft_drinks_df"
      ]
    },
    {
      "cell_type": "code",
      "execution_count": null,
      "id": "782ec490",
      "metadata": {
        "id": "782ec490",
        "outputId": "ccf9f003-17d8-4469-bf7a-5a69df449b5b"
      },
      "outputs": [
        {
          "data": {
            "text/plain": [
              "[<matplotlib.lines.Line2D at 0x7f8419d2b2e0>]"
            ]
          },
          "execution_count": 107,
          "metadata": {},
          "output_type": "execute_result"
        },
        {
          "data": {
            "image/png": "[encoded data removed]",
            "text/plain": [
              "<Figure size 720x720 with 1 Axes>"
            ]
          },
          "metadata": {
            "needs_background": "light"
          },
          "output_type": "display_data"
        }
      ],
      "source": [
        "plt.figure(figsize=(10, 10))\n",
        "plt.plot(soft_drinks_df['idx'], soft_drinks_df['Sales'])"
      ]
    },
    {
      "cell_type": "code",
      "execution_count": null,
      "id": "db03f670",
      "metadata": {
        "id": "db03f670"
      },
      "outputs": [],
      "source": []
    }
  ],
  "metadata": {
    "kernelspec": {
      "display_name": "Python 3 (ipykernel)",
      "language": "python",
      "name": "python3"
    },
    "language_info": {
      "codemirror_mode": {
        "name": "ipython",
        "version": 3
      },
      "file_extension": ".py",
      "mimetype": "text/x-python",
      "name": "python",
      "nbconvert_exporter": "python",
      "pygments_lexer": "ipython3",
      "version": "3.9.12"
    },
    "colab": {
      "provenance": []
    }
  },
  "nbformat": 4,
  "nbformat_minor": 5
}